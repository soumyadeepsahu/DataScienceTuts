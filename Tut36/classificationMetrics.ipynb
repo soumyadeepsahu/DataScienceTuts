{
 "cells": [
  {
   "cell_type": "code",
   "execution_count": 1,
   "metadata": {},
   "outputs": [],
   "source": [
    "#Classification Metrics\n",
    "#Multiple types:\n",
    "#1. Accuracy: n(correct)/n(total) * 100%\n",
    "# it does not tell you what type of mistake the model is making"
   ]
  },
  {
   "cell_type": "code",
   "execution_count": 2,
   "metadata": {},
   "outputs": [],
   "source": [
    "#2. Confusion Matrix\n",
    "# it is a 2x2 matrix for binary data output (2D data)\n",
    "# returns ([TP FN],\n",
    "#          [FP TN])\n",
    "# TP being true positive\n",
    "# i.e. type 1 error: FP(false positive)\n",
    "# i.e. type 2 error: FN(false negative)"
   ]
  },
  {
   "cell_type": "code",
   "execution_count": 3,
   "metadata": {},
   "outputs": [],
   "source": [
    "#Accuracy Score is misleading in Imbalanced datasets\n",
    "# To tackle this- Precision, Recall, F1 score\n",
    "# 3. Precision\n",
    "# Proportion of predicted +ves is truly +ve\n",
    "# TP/(TP+FP)"
   ]
  },
  {
   "cell_type": "code",
   "execution_count": 4,
   "metadata": {},
   "outputs": [],
   "source": [
    "# 4. Recall\n",
    "# Proportion of actual +ves is correctly classified\n",
    "# TP/(TP+FN)"
   ]
  },
  {
   "cell_type": "code",
   "execution_count": 5,
   "metadata": {},
   "outputs": [],
   "source": [
    "# F1 Score:\n",
    "# Harmonic mean of Precision and Recall\n",
    "# 2*P*R/(P+R)"
   ]
  },
  {
   "cell_type": "code",
   "execution_count": null,
   "metadata": {},
   "outputs": [],
   "source": [
    "\n",
    "from sklearn.metrics import precision_score,recall_score\n",
    "precision_score(y_test,y_pred1,average=None)\n",
    "\n",
    "recall_score(y_test,y_pred1,average=None)\n",
    "\n",
    "\n",
    "from sklearn.metrics import classification_report\n",
    "print(classification_report(y_test,y_pred1))"
   ]
  }
 ],
 "metadata": {
  "kernelspec": {
   "display_name": "Python 3.8.8 ('base')",
   "language": "python",
   "name": "python3"
  },
  "language_info": {
   "codemirror_mode": {
    "name": "ipython",
    "version": 3
   },
   "file_extension": ".py",
   "mimetype": "text/x-python",
   "name": "python",
   "nbconvert_exporter": "python",
   "pygments_lexer": "ipython3",
   "version": "3.8.8"
  },
  "orig_nbformat": 4,
  "vscode": {
   "interpreter": {
    "hash": "e4cce46d6be9934fbd27f9ca0432556941ea5bdf741d4f4d64c6cd7f8dfa8fba"
   }
  }
 },
 "nbformat": 4,
 "nbformat_minor": 2
}
