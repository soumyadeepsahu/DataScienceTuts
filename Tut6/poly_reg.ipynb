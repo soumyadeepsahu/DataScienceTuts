{
 "cells": [
  {
   "cell_type": "code",
   "execution_count": 72,
   "metadata": {},
   "outputs": [],
   "source": [
    "import pandas as pd\n",
    "import numpy as np\n",
    "import matplotlib.pyplot as plt"
   ]
  },
  {
   "cell_type": "code",
   "execution_count": 73,
   "metadata": {},
   "outputs": [
    {
     "name": "stdout",
     "output_type": "stream",
     "text": [
      "                timestamp     company     level                         title  \\\n",
      "0       6/7/2017 11:33:27      Oracle        L3               Product Manager   \n",
      "1      6/10/2017 17:11:29        eBay      SE 2             Software Engineer   \n",
      "2      6/11/2017 14:53:57      Amazon        L7               Product Manager   \n",
      "3       6/17/2017 0:23:14       Apple        M1  Software Engineering Manager   \n",
      "4      6/20/2017 10:58:51   Microsoft        60             Software Engineer   \n",
      "...                   ...         ...       ...                           ...   \n",
      "62637   9/9/2018 11:52:32      Google        T4             Software Engineer   \n",
      "62638   9/13/2018 8:23:32   Microsoft        62             Software Engineer   \n",
      "62639  9/13/2018 14:35:59        MSFT        63             Software Engineer   \n",
      "62640  9/16/2018 16:10:35  Salesforce  Lead MTS             Software Engineer   \n",
      "62641   1/29/2019 5:12:59       apple      ict3             Software Engineer   \n",
      "\n",
      "       totalyearlycompensation           location  yearsofexperience  \\\n",
      "0                       127000   Redwood City, CA                1.5   \n",
      "1                       100000  San Francisco, CA                5.0   \n",
      "2                       310000        Seattle, WA                8.0   \n",
      "3                       372000      Sunnyvale, CA                7.0   \n",
      "4                       157000  Mountain View, CA                5.0   \n",
      "...                        ...                ...                ...   \n",
      "62637                   327000        Seattle, WA               10.0   \n",
      "62638                   237000        Redmond, WA                2.0   \n",
      "62639                   220000        Seattle, WA               14.0   \n",
      "62640                   280000  San Francisco, CA                8.0   \n",
      "62641                   200000      Sunnyvale, CA                0.0   \n",
      "\n",
      "       yearsatcompany                             tag  basesalary  ...  \\\n",
      "0                 1.5                             NaN    107000.0  ...   \n",
      "1                 3.0                             NaN         0.0  ...   \n",
      "2                 0.0                             NaN    155000.0  ...   \n",
      "3                 5.0                             NaN    157000.0  ...   \n",
      "4                 3.0                             NaN         0.0  ...   \n",
      "...               ...                             ...         ...  ...   \n",
      "62637             1.0  Distributed Systems (Back-End)    155000.0  ...   \n",
      "62638             2.0                      Full Stack    146900.0  ...   \n",
      "62639            12.0                      Full Stack    157000.0  ...   \n",
      "62640             4.0                             iOS    194688.0  ...   \n",
      "62641             0.0                         ML / AI    155000.0  ...   \n",
      "\n",
      "       Doctorate_Degree  Highschool Some_College Race_Asian  Race_White  \\\n",
      "0                     0           0            0          0           0   \n",
      "1                     0           0            0          0           0   \n",
      "2                     0           0            0          0           0   \n",
      "3                     0           0            0          0           0   \n",
      "4                     0           0            0          0           0   \n",
      "...                 ...         ...          ...        ...         ...   \n",
      "62637                 0           0            0          0           0   \n",
      "62638                 0           0            0          0           0   \n",
      "62639                 0           0            0          0           0   \n",
      "62640                 0           0            0          0           0   \n",
      "62641                 0           0            0          0           0   \n",
      "\n",
      "       Race_Two_Or_More  Race_Black  Race_Hispanic  Race  Education  \n",
      "0                     0           0              0   NaN        NaN  \n",
      "1                     0           0              0   NaN        NaN  \n",
      "2                     0           0              0   NaN        NaN  \n",
      "3                     0           0              0   NaN        NaN  \n",
      "4                     0           0              0   NaN        NaN  \n",
      "...                 ...         ...            ...   ...        ...  \n",
      "62637                 0           0              0   NaN        NaN  \n",
      "62638                 0           0              0   NaN        NaN  \n",
      "62639                 0           0              0   NaN        NaN  \n",
      "62640                 0           0              0   NaN        NaN  \n",
      "62641                 0           0              0   NaN        NaN  \n",
      "\n",
      "[62642 rows x 29 columns]\n"
     ]
    }
   ],
   "source": [
    "df = pd.read_csv('Levels_Fyi_Salary_Data.csv')\n",
    "print(df)"
   ]
  },
  {
   "cell_type": "code",
   "execution_count": 74,
   "metadata": {},
   "outputs": [
    {
     "name": "stdout",
     "output_type": "stream",
     "text": [
      "Index(['timestamp', 'company', 'level', 'title', 'totalyearlycompensation',\n",
      "       'location', 'yearsofexperience', 'yearsatcompany', 'tag', 'basesalary',\n",
      "       'stockgrantvalue', 'bonus', 'gender', 'otherdetails', 'cityid', 'dmaid',\n",
      "       'rowNumber', 'Masters_Degree', 'Bachelors_Degree', 'Doctorate_Degree',\n",
      "       'Highschool', 'Some_College', 'Race_Asian', 'Race_White',\n",
      "       'Race_Two_Or_More', 'Race_Black', 'Race_Hispanic', 'Race', 'Education'],\n",
      "      dtype='object')\n"
     ]
    }
   ],
   "source": [
    "print(df.columns)"
   ]
  },
  {
   "cell_type": "code",
   "execution_count": 75,
   "metadata": {},
   "outputs": [
    {
     "name": "stdout",
     "output_type": "stream",
     "text": [
      "          company  totalyearlycompensation  yearsofexperience  yearsatcompany  \\\n",
      "0          Oracle                   127000                1.5             1.5   \n",
      "1            eBay                   100000                5.0             3.0   \n",
      "2          Amazon                   310000                8.0             0.0   \n",
      "3           Apple                   372000                7.0             5.0   \n",
      "4       Microsoft                   157000                5.0             3.0   \n",
      "...           ...                      ...                ...             ...   \n",
      "62637      Google                   327000               10.0             1.0   \n",
      "62638   Microsoft                   237000                2.0             2.0   \n",
      "62639        MSFT                   220000               14.0            12.0   \n",
      "62640  Salesforce                   280000                8.0             4.0   \n",
      "62641       apple                   200000                0.0             0.0   \n",
      "\n",
      "       basesalary  \n",
      "0        107000.0  \n",
      "1             0.0  \n",
      "2        155000.0  \n",
      "3        157000.0  \n",
      "4             0.0  \n",
      "...           ...  \n",
      "62637    155000.0  \n",
      "62638    146900.0  \n",
      "62639    157000.0  \n",
      "62640    194688.0  \n",
      "62641    155000.0  \n",
      "\n",
      "[62642 rows x 5 columns]\n"
     ]
    }
   ],
   "source": [
    "salary_df = df[['company', 'totalyearlycompensation', 'yearsofexperience', 'yearsatcompany', 'basesalary']]\n",
    "print(salary_df)"
   ]
  },
  {
   "cell_type": "code",
   "execution_count": 76,
   "metadata": {},
   "outputs": [],
   "source": [
    "X = salary_df.iloc[:, 2:]\n",
    "y_train = salary_df.iloc[:50000, 1]\n",
    "y_test = salary_df.iloc[50000:, 1]\n",
    "\n",
    "rows = X.shape[0]\n",
    "count = 0\n",
    "N_train = 50000\n",
    "\n",
    "train_err = {}\n",
    "test_err = {}\n"
   ]
  },
  {
   "cell_type": "code",
   "execution_count": 77,
   "metadata": {},
   "outputs": [],
   "source": [
    "def rmse(targets, predictions):\n",
    "    return np.sqrt((np.square(predictions - targets)).mean())"
   ]
  },
  {
   "cell_type": "code",
   "execution_count": 79,
   "metadata": {},
   "outputs": [
    {
     "name": "stdout",
     "output_type": "stream",
     "text": [
      "(62642, 4)\n",
      "A[1]: \n",
      "\n",
      "[5. 3. 0. 1.]\n",
      "X_train.shape: \n",
      "\n",
      "(50000, 4)\n",
      "rms_train \n",
      "\n",
      "92469.43809773953\n",
      "rms_test \n",
      "\n",
      "121382.52351504721\n",
      "(62642, 7)\n",
      "A[1]: \n",
      "\n",
      "[ 5. 25.  3.  9.  0.  0.  1.]\n",
      "X_train.shape: \n",
      "\n",
      "(50000, 7)\n",
      "rms_train \n",
      "\n",
      "91573.99026037067\n",
      "rms_test \n",
      "\n",
      "129644.37305767815\n",
      "(62642, 10)\n",
      "A[1]: \n",
      "\n",
      "[  5.  25. 125.   3.   9.  27.   0.   0.   0.   1.]\n",
      "X_train.shape: \n",
      "\n",
      "(50000, 10)\n",
      "rms_train \n",
      "\n",
      "82679.30803704014\n",
      "rms_test \n",
      "\n",
      "450246.99729011394\n",
      "(62642, 13)\n",
      "A[1]: \n",
      "\n",
      "[  5.  25. 125. 625.   3.   9.  27.  81.   0.   0.   0.   0.   1.]\n",
      "X_train.shape: \n",
      "\n",
      "(50000, 13)\n",
      "rms_train \n",
      "\n",
      "76200.1825509773\n",
      "rms_test \n",
      "\n",
      "1486057.6706244342\n",
      "(62642, 16)\n",
      "A[1]: \n",
      "\n",
      "[5.000e+00 2.500e+01 1.250e+02 6.250e+02 3.125e+03 3.000e+00 9.000e+00\n",
      " 2.700e+01 8.100e+01 2.430e+02 0.000e+00 0.000e+00 0.000e+00 0.000e+00\n",
      " 0.000e+00 1.000e+00]\n",
      "X_train.shape: \n",
      "\n",
      "(50000, 16)\n",
      "rms_train \n",
      "\n",
      "75412.29147140734\n",
      "rms_test \n",
      "\n",
      "1535500.4793869003\n"
     ]
    }
   ],
   "source": [
    "\n",
    "for i in range(1,6):\n",
    "    A = np.ones([rows, (3*i)+1])\n",
    "    print(A.shape)\n",
    "    for j in range(0,3):\n",
    "        for k in range(1, i+1):\n",
    "            A[:,count]=np.power(np.array(X.iloc[:,j]).T, k)\n",
    "            count = count+1\n",
    "\n",
    "    #spliting x values for test and train\n",
    "\n",
    "    print(\"A[1]: \\n\")\n",
    "    print(A[1])\n",
    "    x_train = A[0:N_train, :]\n",
    "    x_test = A[N_train:, :]\n",
    "\n",
    "    print(\"X_train.shape: \\n\")\n",
    "    print(x_train.shape)\n",
    "    w = np.linalg.inv(x_train.T.dot(x_train)).dot(x_train.T.dot(y_train))\n",
    "\n",
    "    #training error\n",
    "    y_train_pred = x_train.dot(w)\n",
    "    rms_train = rmse(y_train, y_train_pred)\n",
    "    train_err[i] = rms_train\n",
    "    print(\"rms_train \\n\")\n",
    "    print(rms_train)\n",
    "\n",
    "    #test error\n",
    "    y_test_pred = x_test.dot(w)\n",
    "    rms_test = rmse(y_test, y_test_pred)\n",
    "    print(\"rms_test \\n\")\n",
    "    print(rms_test)\n",
    "    test_err[i] = rms_test\n",
    "\n",
    "    count = 0\n"
   ]
  },
  {
   "cell_type": "code",
   "execution_count": 80,
   "metadata": {},
   "outputs": [
    {
     "data": {
      "image/png": "[encoded data removed]",
      "text/plain": [
       "<Figure size 432x288 with 1 Axes>"
      ]
     },
     "metadata": {
      "needs_background": "light"
     },
     "output_type": "display_data"
    }
   ],
   "source": [
    "plt.plot(list(train_err.keys()), list(train_err.values()))\n",
    "plt.plot(list(test_err.keys()), list(test_err.values()))\n",
    "plt.ylabel('RMS')\n",
    "plt.legend(['Test Error', 'Training Error'])\n",
    "plt.title('Fit with polynomials, no regularization')\n",
    "plt.xlabel('Polynomial degree')\n",
    "plt.show()"
   ]
  }
 ],
 "metadata": {
  "interpreter": {
   "hash": "97ae724bfa85b9b34df7982b8bb8c7216f435b92902d749e4263f71162bea840"
  },
  "kernelspec": {
   "display_name": "Python 3.8.8 ('base')",
   "language": "python",
   "name": "python3"
  },
  "language_info": {
   "codemirror_mode": {
    "name": "ipython",
    "version": 3
   },
   "file_extension": ".py",
   "mimetype": "text/x-python",
   "name": "python",
   "nbconvert_exporter": "python",
   "pygments_lexer": "ipython3",
   "version": "3.8.8"
  },
  "orig_nbformat": 4
 },
 "nbformat": 4,
 "nbformat_minor": 2
}
