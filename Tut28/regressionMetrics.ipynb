{
 "cells": [
  {
   "cell_type": "code",
   "execution_count": 1,
   "metadata": {},
   "outputs": [],
   "source": [
    "# Regression Metrics\n",
    "# MSE, MAE & RMSE | R2 Score & Adjusted R2 Score\n"
   ]
  },
  {
   "cell_type": "code",
   "execution_count": 2,
   "metadata": {},
   "outputs": [],
   "source": [
    "# MAE is mean absolute error\n",
    "# Advantages:\n",
    "# 1. Same Unit\n",
    "# 2. Robust with Outliers\n",
    "# Disadvantage: not differnciable at 0"
   ]
  },
  {
   "cell_type": "code",
   "execution_count": 3,
   "metadata": {},
   "outputs": [],
   "source": [
    "# MSE is mean squared error\n",
    "# Advantages: Differenciable(can be used as loss function)\n",
    "# Disadvantages: 1. Penalizes Outliers a lot 2. different unit"
   ]
  },
  {
   "cell_type": "code",
   "execution_count": 4,
   "metadata": {},
   "outputs": [],
   "source": [
    "# RMSE Root mean squared error\n",
    "# Advantages: Same unit\n",
    "# Disadvantage: not that robust against outliers"
   ]
  },
  {
   "cell_type": "code",
   "execution_count": 5,
   "metadata": {},
   "outputs": [],
   "source": [
    "# R2 Score\n",
    "# goodness of fit / coefficient of determination\n",
    "# R2 = 1 - SSr/SSm\n",
    "# in case of cgpa | lpa, if R2 = 0.8\n",
    "# it means that cgpa explains 80% of the variance in lpa"
   ]
  },
  {
   "cell_type": "code",
   "execution_count": 6,
   "metadata": {},
   "outputs": [],
   "source": [
    "# Adjusted R2 Score = 1 - [(1-R2)(n-1)/(n-1-k)]\n",
    "# n is no. of rows, k is no. of independent columns\n",
    "# reduces if irrelevant columns are added and vice-versa if relevant columns"
   ]
  },
  {
   "cell_type": "code",
   "execution_count": null,
   "metadata": {},
   "outputs": [],
   "source": []
  }
 ],
 "metadata": {
  "kernelspec": {
   "display_name": "Python 3.8.8 ('base')",
   "language": "python",
   "name": "python3"
  },
  "language_info": {
   "codemirror_mode": {
    "name": "ipython",
    "version": 3
   },
   "file_extension": ".py",
   "mimetype": "text/x-python",
   "name": "python",
   "nbconvert_exporter": "python",
   "pygments_lexer": "ipython3",
   "version": "3.8.8"
  },
  "orig_nbformat": 4,
  "vscode": {
   "interpreter": {
    "hash": "e4cce46d6be9934fbd27f9ca0432556941ea5bdf741d4f4d64c6cd7f8dfa8fba"
   }
  }
 },
 "nbformat": 4,
 "nbformat_minor": 2
}
