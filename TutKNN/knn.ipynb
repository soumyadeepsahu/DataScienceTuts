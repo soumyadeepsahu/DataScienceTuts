{
 "cells": [
  {
   "cell_type": "code",
   "execution_count": 1,
   "metadata": {},
   "outputs": [],
   "source": [
    "import pandas as pd\n",
    "import numpy as np\n",
    "import matplotlib.pyplot as plt"
   ]
  },
  {
   "cell_type": "code",
   "execution_count": 2,
   "metadata": {},
   "outputs": [],
   "source": [
    "df = pd.read_csv(\"Social_Network_Ads.csv\")"
   ]
  },
  {
   "cell_type": "code",
   "execution_count": 3,
   "metadata": {},
   "outputs": [
    {
     "data": {
      "text/html": [
       "<div>\n",
       "<style scoped>\n",
       "    .dataframe tbody tr th:only-of-type {\n",
       "        vertical-align: middle;\n",
       "    }\n",
       "\n",
       "    .dataframe tbody tr th {\n",
       "        vertical-align: top;\n",
       "    }\n",
       "\n",
       "    .dataframe thead th {\n",
       "        text-align: right;\n",
       "    }\n",
       "</style>\n",
       "<table border=\"1\" class=\"dataframe\">\n",
       "  <thead>\n",
       "    <tr style=\"text-align: right;\">\n",
       "      <th></th>\n",
       "      <th>User ID</th>\n",
       "      <th>Gender</th>\n",
       "      <th>Age</th>\n",
       "      <th>EstimatedSalary</th>\n",
       "      <th>Purchased</th>\n",
       "    </tr>\n",
       "  </thead>\n",
       "  <tbody>\n",
       "    <tr>\n",
       "      <th>0</th>\n",
       "      <td>15624510</td>\n",
       "      <td>Male</td>\n",
       "      <td>19</td>\n",
       "      <td>19000</td>\n",
       "      <td>0</td>\n",
       "    </tr>\n",
       "    <tr>\n",
       "      <th>1</th>\n",
       "      <td>15810944</td>\n",
       "      <td>Male</td>\n",
       "      <td>35</td>\n",
       "      <td>20000</td>\n",
       "      <td>0</td>\n",
       "    </tr>\n",
       "    <tr>\n",
       "      <th>2</th>\n",
       "      <td>15668575</td>\n",
       "      <td>Female</td>\n",
       "      <td>26</td>\n",
       "      <td>43000</td>\n",
       "      <td>0</td>\n",
       "    </tr>\n",
       "    <tr>\n",
       "      <th>3</th>\n",
       "      <td>15603246</td>\n",
       "      <td>Female</td>\n",
       "      <td>27</td>\n",
       "      <td>57000</td>\n",
       "      <td>0</td>\n",
       "    </tr>\n",
       "    <tr>\n",
       "      <th>4</th>\n",
       "      <td>15804002</td>\n",
       "      <td>Male</td>\n",
       "      <td>19</td>\n",
       "      <td>76000</td>\n",
       "      <td>0</td>\n",
       "    </tr>\n",
       "  </tbody>\n",
       "</table>\n",
       "</div>"
      ],
      "text/plain": [
       "    User ID  Gender  Age  EstimatedSalary  Purchased\n",
       "0  15624510    Male   19            19000          0\n",
       "1  15810944    Male   35            20000          0\n",
       "2  15668575  Female   26            43000          0\n",
       "3  15603246  Female   27            57000          0\n",
       "4  15804002    Male   19            76000          0"
      ]
     },
     "execution_count": 3,
     "metadata": {},
     "output_type": "execute_result"
    }
   ],
   "source": [
    "df.head()"
   ]
  },
  {
   "cell_type": "code",
   "execution_count": 4,
   "metadata": {},
   "outputs": [],
   "source": [
    "X = df.iloc[:,2:4]\n",
    "y = df.iloc[:,4]"
   ]
  },
  {
   "cell_type": "code",
   "execution_count": 5,
   "metadata": {},
   "outputs": [
    {
     "data": {
      "text/html": [
       "<div>\n",
       "<style scoped>\n",
       "    .dataframe tbody tr th:only-of-type {\n",
       "        vertical-align: middle;\n",
       "    }\n",
       "\n",
       "    .dataframe tbody tr th {\n",
       "        vertical-align: top;\n",
       "    }\n",
       "\n",
       "    .dataframe thead th {\n",
       "        text-align: right;\n",
       "    }\n",
       "</style>\n",
       "<table border=\"1\" class=\"dataframe\">\n",
       "  <thead>\n",
       "    <tr style=\"text-align: right;\">\n",
       "      <th></th>\n",
       "      <th>Age</th>\n",
       "      <th>EstimatedSalary</th>\n",
       "    </tr>\n",
       "  </thead>\n",
       "  <tbody>\n",
       "    <tr>\n",
       "      <th>0</th>\n",
       "      <td>19</td>\n",
       "      <td>19000</td>\n",
       "    </tr>\n",
       "    <tr>\n",
       "      <th>1</th>\n",
       "      <td>35</td>\n",
       "      <td>20000</td>\n",
       "    </tr>\n",
       "    <tr>\n",
       "      <th>2</th>\n",
       "      <td>26</td>\n",
       "      <td>43000</td>\n",
       "    </tr>\n",
       "    <tr>\n",
       "      <th>3</th>\n",
       "      <td>27</td>\n",
       "      <td>57000</td>\n",
       "    </tr>\n",
       "    <tr>\n",
       "      <th>4</th>\n",
       "      <td>19</td>\n",
       "      <td>76000</td>\n",
       "    </tr>\n",
       "    <tr>\n",
       "      <th>...</th>\n",
       "      <td>...</td>\n",
       "      <td>...</td>\n",
       "    </tr>\n",
       "    <tr>\n",
       "      <th>395</th>\n",
       "      <td>46</td>\n",
       "      <td>41000</td>\n",
       "    </tr>\n",
       "    <tr>\n",
       "      <th>396</th>\n",
       "      <td>51</td>\n",
       "      <td>23000</td>\n",
       "    </tr>\n",
       "    <tr>\n",
       "      <th>397</th>\n",
       "      <td>50</td>\n",
       "      <td>20000</td>\n",
       "    </tr>\n",
       "    <tr>\n",
       "      <th>398</th>\n",
       "      <td>36</td>\n",
       "      <td>33000</td>\n",
       "    </tr>\n",
       "    <tr>\n",
       "      <th>399</th>\n",
       "      <td>49</td>\n",
       "      <td>36000</td>\n",
       "    </tr>\n",
       "  </tbody>\n",
       "</table>\n",
       "<p>400 rows × 2 columns</p>\n",
       "</div>"
      ],
      "text/plain": [
       "     Age  EstimatedSalary\n",
       "0     19            19000\n",
       "1     35            20000\n",
       "2     26            43000\n",
       "3     27            57000\n",
       "4     19            76000\n",
       "..   ...              ...\n",
       "395   46            41000\n",
       "396   51            23000\n",
       "397   50            20000\n",
       "398   36            33000\n",
       "399   49            36000\n",
       "\n",
       "[400 rows x 2 columns]"
      ]
     },
     "execution_count": 5,
     "metadata": {},
     "output_type": "execute_result"
    }
   ],
   "source": [
    "X"
   ]
  },
  {
   "cell_type": "code",
   "execution_count": 7,
   "metadata": {},
   "outputs": [
    {
     "data": {
      "text/plain": [
       "(400,)"
      ]
     },
     "execution_count": 7,
     "metadata": {},
     "output_type": "execute_result"
    }
   ],
   "source": [
    "y.shape"
   ]
  },
  {
   "cell_type": "code",
   "execution_count": 9,
   "metadata": {},
   "outputs": [],
   "source": [
    "from sklearn.model_selection import train_test_split\n",
    "X_train, X_test, y_train, y_test = train_test_split(X,y,test_size=0.2,random_state=2)"
   ]
  },
  {
   "cell_type": "code",
   "execution_count": 10,
   "metadata": {},
   "outputs": [],
   "source": [
    "from sklearn.preprocessing import StandardScaler\n",
    "scaler = StandardScaler()"
   ]
  },
  {
   "cell_type": "code",
   "execution_count": 11,
   "metadata": {},
   "outputs": [
    {
     "data": {
      "text/plain": [
       "array([[ 0.88928823, -0.65924556],\n",
       "       [-0.17254846,  0.87392651],\n",
       "       [-1.04132394, -0.36440478],\n",
       "       [ 0.98581884,  0.6085698 ],\n",
       "       [-0.94479333,  0.57908572],\n",
       "       [ 0.40663519,  0.01888824],\n",
       "       [ 0.98581884,  2.11225779],\n",
       "       [ 0.31010458, -0.30543662],\n",
       "       [ 1.7580637 , -0.27595254],\n",
       "       [-0.17254846,  2.20071003],\n",
       "       [ 1.7580637 ,  1.0213469 ],\n",
       "       [-1.33091576, -1.48479975],\n",
       "       [ 2.04765553,  0.54960165],\n",
       "       [ 1.27541066,  1.90586924],\n",
       "       [-1.13785454,  0.31372902],\n",
       "       [-0.36560968, -0.77718187],\n",
       "       [-1.71703819,  0.49063349],\n",
       "       [-0.5586709 , -1.51428383],\n",
       "       [ 0.31010458, -0.71821372],\n",
       "       [ 0.02051275, -0.57079333],\n",
       "       [ 0.02051275,  0.04837232],\n",
       "       [-0.07601785, -0.51182517],\n",
       "       [-0.6552015 , -1.51428383],\n",
       "       [ 0.02051275,  0.31372902],\n",
       "       [ 0.31010458,  0.07785639],\n",
       "       [-0.46214029, -1.13099081],\n",
       "       [-0.75173211, -1.54376791],\n",
       "       [-0.26907907, -0.65924556],\n",
       "       [-1.13785454,  0.49063349],\n",
       "       [-0.07601785,  2.20071003],\n",
       "       [ 0.02051275,  0.04837232],\n",
       "       [-1.13785454, -1.57325199],\n",
       "       [ 1.08234944,  0.54960165],\n",
       "       [-0.26907907, -1.24892713],\n",
       "       [ 1.37194127, -0.92460227],\n",
       "       [-1.42744637, -1.21944305],\n",
       "       [-0.94479333, -0.95408634],\n",
       "       [ 1.95112492, -0.65924556],\n",
       "       [ 0.88928823, -0.57079333],\n",
       "       [-1.13785454,  0.31372902],\n",
       "       [ 0.02051275, -0.24646847],\n",
       "       [ 0.79275762, -1.39634752],\n",
       "       [-0.26907907, -0.36440478],\n",
       "       [ 0.88928823,  1.2867036 ],\n",
       "       [ 0.31010458, -0.18750031],\n",
       "       [-0.26907907, -0.57079333],\n",
       "       [-0.26907907, -1.39634752],\n",
       "       [ 1.46847188, -1.04253858],\n",
       "       [-0.07601785,  0.13682455],\n",
       "       [-0.84826272, -0.65924556],\n",
       "       [-0.07601785,  0.01888824],\n",
       "       [-0.26907907,  0.10734047],\n",
       "       [ 0.21357397, -0.30543662],\n",
       "       [-0.26907907,  0.28424494],\n",
       "       [ 0.11704336,  0.04837232],\n",
       "       [ 1.95112492,  2.20071003],\n",
       "       [-1.04132394, -1.45531567],\n",
       "       [ 0.31010458,  0.31372902],\n",
       "       [ 2.04765553, -1.18995897],\n",
       "       [-1.13785454, -0.51182517],\n",
       "       [ 0.21357397,  0.16630863],\n",
       "       [-0.26907907, -0.92460227],\n",
       "       [-0.6552015 ,  0.04837232],\n",
       "       [ 0.21357397,  0.07785639],\n",
       "       [ 0.40663519, -0.12853215],\n",
       "       [-1.13785454, -1.10150673],\n",
       "       [-0.07601785,  2.25967818],\n",
       "       [ 1.08234944, -0.12853215],\n",
       "       [ 0.88928823,  1.05083098],\n",
       "       [-0.07601785,  0.28424494],\n",
       "       [-0.5586709 , -1.51428383],\n",
       "       [-1.13785454, -1.0130545 ],\n",
       "       [-0.75173211,  1.37515584],\n",
       "       [ 1.08234944,  0.57908572],\n",
       "       [ 1.56500249, -1.2784112 ],\n",
       "       [ 0.69622701, -1.39634752],\n",
       "       [-0.6552015 , -1.04253858],\n",
       "       [ 1.17888005,  0.54960165],\n",
       "       [-0.26907907, -1.45531567],\n",
       "       [-1.62050759,  0.54960165],\n",
       "       [-1.04132394, -1.13099081],\n",
       "       [-0.07601785,  0.04837232],\n",
       "       [ 0.31010458,  0.07785639],\n",
       "       [ 0.88928823, -1.36686344],\n",
       "       [-1.04132394, -0.3349207 ],\n",
       "       [-1.8135688 ,  0.19579271],\n",
       "       [-1.8135688 , -1.4258316 ],\n",
       "       [ 0.69622701,  1.81741701],\n",
       "       [-0.07601785,  0.31372902],\n",
       "       [-1.62050759,  0.07785639],\n",
       "       [-0.6552015 ,  1.43412399],\n",
       "       [-0.26907907, -0.24646847],\n",
       "       [-0.36560968,  1.34567176],\n",
       "       [ 0.5031658 ,  1.25721952],\n",
       "       [-0.6552015 ,  0.19579271],\n",
       "       [-1.52397698, -0.42337294],\n",
       "       [-1.04132394,  0.43166533],\n",
       "       [ 0.79275762,  0.28424494],\n",
       "       [ 1.95112492, -0.92460227],\n",
       "       [ 0.79275762, -0.30543662],\n",
       "       [ 0.21357397,  0.25476086],\n",
       "       [-1.71703819, -0.60027741],\n",
       "       [-0.26907907,  0.16630863],\n",
       "       [-1.33091576, -1.24892713],\n",
       "       [-0.26907907, -0.42337294],\n",
       "       [ 0.11704336,  0.10734047],\n",
       "       [-0.94479333,  0.46114941],\n",
       "       [ 2.04765553,  0.40218125],\n",
       "       [-1.91009941,  0.37269718],\n",
       "       [ 2.04765553, -0.80666595],\n",
       "       [ 2.14418614,  1.13928321],\n",
       "       [ 0.79275762, -1.21944305],\n",
       "       [ 0.40663519, -0.45285701],\n",
       "       [ 0.02051275, -0.24646847],\n",
       "       [ 1.46847188,  0.37269718],\n",
       "       [-0.17254846, -0.57079333],\n",
       "       [ 0.21357397, -0.24646847],\n",
       "       [-0.46214029,  2.34813042],\n",
       "       [ 0.11704336,  0.22527679],\n",
       "       [ 0.21357397, -0.65924556],\n",
       "       [ 0.98581884, -1.07202266],\n",
       "       [-0.17254846,  0.16630863],\n",
       "       [-0.07601785,  0.31372902],\n",
       "       [ 0.40663519, -0.48234109],\n",
       "       [-0.36560968, -1.30789528],\n",
       "       [ 0.88928823, -0.77718187],\n",
       "       [-0.94479333,  0.43166533],\n",
       "       [-0.07601785, -0.42337294],\n",
       "       [-0.94479333, -0.42337294],\n",
       "       [-1.8135688 ,  0.46114941],\n",
       "       [-0.84826272, -1.21944305],\n",
       "       [-0.94479333, -0.30543662],\n",
       "       [ 0.98581884,  0.78547427],\n",
       "       [-1.62050759, -0.04007992],\n",
       "       [-1.04132394, -0.3349207 ],\n",
       "       [ 0.02051275, -0.54130925],\n",
       "       [-0.6552015 , -0.3349207 ],\n",
       "       [-1.13785454, -1.54376791],\n",
       "       [ 1.95112492, -1.36686344],\n",
       "       [-0.6552015 , -1.60273606],\n",
       "       [ 0.21357397, -0.36440478],\n",
       "       [ 0.88928823,  2.20071003],\n",
       "       [ 1.17888005, -0.98357042],\n",
       "       [-0.17254846, -0.51182517],\n",
       "       [ 1.66153309,  1.78793293],\n",
       "       [ 1.08234944, -1.21944305],\n",
       "       [ 0.02051275,  1.2867036 ],\n",
       "       [-0.46214029, -0.27595254],\n",
       "       [ 1.66153309, -0.89511819],\n",
       "       [ 0.31010458,  0.52011757],\n",
       "       [-1.04132394, -1.54376791],\n",
       "       [ 1.56500249,  1.13928321],\n",
       "       [-1.52397698,  0.3432131 ],\n",
       "       [ 0.02051275, -0.12853215],\n",
       "       [ 0.11704336, -0.80666595],\n",
       "       [ 0.21357397,  1.10979913],\n",
       "       [ 0.40663519, -0.15801623],\n",
       "       [-0.46214029, -0.01059584],\n",
       "       [ 1.08234944,  2.11225779],\n",
       "       [-0.26907907, -0.12853215],\n",
       "       [-0.75173211, -0.60027741],\n",
       "       [ 1.17888005, -1.45531567],\n",
       "       [-1.42744637, -1.45531567],\n",
       "       [ 1.85459431, -0.27595254],\n",
       "       [ 1.85459431,  0.13682455],\n",
       "       [ 0.40663519,  0.16630863],\n",
       "       [ 1.27541066, -1.36686344],\n",
       "       [-0.46214029, -1.21944305],\n",
       "       [-0.75173211,  1.93535332],\n",
       "       [-0.26907907,  1.13928321],\n",
       "       [ 0.02051275, -0.57079333],\n",
       "       [ 0.21357397, -0.12853215],\n",
       "       [-0.5586709 ,  1.93535332],\n",
       "       [-0.94479333,  0.28424494],\n",
       "       [-1.91009941,  0.49063349],\n",
       "       [-1.33091576,  0.57908572],\n",
       "       [ 0.21357397,  0.16630863],\n",
       "       [ 1.37194127, -1.4258316 ],\n",
       "       [-0.07601785,  0.69702204],\n",
       "       [ 0.11704336,  1.90586924],\n",
       "       [-1.71703819, -0.98357042],\n",
       "       [ 0.21357397, -0.36440478],\n",
       "       [-1.8135688 , -1.30789528],\n",
       "       [ 0.79275762,  0.54960165],\n",
       "       [-0.17254846,  1.43412399],\n",
       "       [-1.04132394,  0.57908572],\n",
       "       [-1.23438515, -1.07202266],\n",
       "       [ 1.37194127,  2.02380556],\n",
       "       [ 0.79275762, -1.10150673],\n",
       "       [ 0.79275762,  0.13682455],\n",
       "       [-1.8135688 , -1.2784112 ],\n",
       "       [ 0.02051275,  1.25721952],\n",
       "       [ 0.88928823, -0.60027741],\n",
       "       [ 2.14418614,  0.40218125],\n",
       "       [ 2.14418614, -0.80666595],\n",
       "       [ 0.98581884, -1.07202266],\n",
       "       [ 0.11704336,  1.55206031],\n",
       "       [-0.94479333,  0.52011757],\n",
       "       [-1.23438515,  0.28424494],\n",
       "       [ 0.40663519,  0.6085698 ],\n",
       "       [ 0.11704336,  0.16630863],\n",
       "       [ 0.21357397,  0.04837232],\n",
       "       [ 2.04765553,  2.17122595],\n",
       "       [-0.07601785, -0.36440478],\n",
       "       [-0.26907907,  0.81495835],\n",
       "       [-1.42744637, -0.18750031],\n",
       "       [ 1.08234944,  0.13682455],\n",
       "       [ 0.31010458,  0.07785639],\n",
       "       [ 0.11704336,  0.04837232],\n",
       "       [ 0.98581884, -1.0130545 ],\n",
       "       [-0.5586709 ,  1.49309215],\n",
       "       [-1.13785454, -1.60273606],\n",
       "       [ 1.27541066,  2.25967818],\n",
       "       [-1.42744637, -0.09904808],\n",
       "       [-1.8135688 , -1.48479975],\n",
       "       [ 0.88928823, -1.16047489],\n",
       "       [ 2.14418614, -0.68872964],\n",
       "       [ 0.5996964 , -0.89511819],\n",
       "       [-1.23438515, -1.39634752],\n",
       "       [-0.46214029, -0.83615003],\n",
       "       [-0.84826272, -0.24646847],\n",
       "       [ 1.46847188,  2.17122595],\n",
       "       [ 0.40663519,  1.0213469 ],\n",
       "       [ 0.02051275, -0.42337294],\n",
       "       [-1.13785454, -1.16047489],\n",
       "       [-0.75173211,  0.57908572],\n",
       "       [ 0.11704336,  1.08031505],\n",
       "       [-0.5586709 ,  1.40463991],\n",
       "       [ 0.11704336,  1.90586924],\n",
       "       [ 0.21357397,  2.14174187],\n",
       "       [ 1.46847188,  1.0213469 ],\n",
       "       [-1.71703819,  0.13682455],\n",
       "       [-0.26907907, -0.48234109],\n",
       "       [ 0.11704336,  0.78547427],\n",
       "       [ 0.88928823, -1.30789528],\n",
       "       [-0.26907907, -0.27595254],\n",
       "       [ 2.14418614, -1.04253858],\n",
       "       [ 0.40663519,  0.31372902],\n",
       "       [-0.17254846,  1.64051254],\n",
       "       [ 0.79275762, -0.83615003],\n",
       "       [-0.94479333,  1.58154438],\n",
       "       [ 0.11704336, -0.24646847],\n",
       "       [-1.23438515,  0.52011757],\n",
       "       [ 0.11704336, -0.80666595],\n",
       "       [ 1.08234944, -0.98357042],\n",
       "       [ 0.98581884,  1.81741701],\n",
       "       [-1.42744637, -0.62976148],\n",
       "       [ 0.98581884, -1.18995897],\n",
       "       [-1.33091576, -0.42337294],\n",
       "       [ 0.31010458,  0.07785639],\n",
       "       [-0.26907907, -0.57079333],\n",
       "       [-0.75173211,  1.10979913],\n",
       "       [ 1.56500249,  1.0213469 ],\n",
       "       [-1.04132394,  0.6085698 ],\n",
       "       [ 0.40663519,  0.10734047],\n",
       "       [-0.94479333, -0.30543662],\n",
       "       [ 1.17888005, -0.7476978 ],\n",
       "       [-1.91009941, -0.51182517],\n",
       "       [ 1.08234944, -1.21944305],\n",
       "       [ 0.31010458,  0.28424494],\n",
       "       [-0.75173211, -1.60273606],\n",
       "       [-0.26907907, -1.30789528],\n",
       "       [-0.26907907,  0.54960165],\n",
       "       [ 0.98581884,  1.90586924],\n",
       "       [-0.6552015 , -0.09904808],\n",
       "       [-0.46214029,  1.2867036 ],\n",
       "       [ 0.31010458, -0.51182517],\n",
       "       [ 1.85459431,  1.55206031],\n",
       "       [ 1.08234944,  0.49063349],\n",
       "       [ 2.04765553,  0.19579271],\n",
       "       [-1.71703819,  0.37269718],\n",
       "       [-0.17254846, -0.18750031],\n",
       "       [-0.6552015 ,  0.57908572],\n",
       "       [ 1.37194127,  1.31618768],\n",
       "       [ 1.08234944, -0.89511819],\n",
       "       [ 1.85459431, -1.07202266],\n",
       "       [-0.75173211,  0.52011757],\n",
       "       [-1.33091576, -1.10150673],\n",
       "       [ 0.79275762,  0.37269718],\n",
       "       [-0.84826272,  0.40218125],\n",
       "       [-0.75173211,  0.31372902],\n",
       "       [-1.04132394,  1.99432148],\n",
       "       [-0.07601785,  0.07785639],\n",
       "       [ 1.37194127,  2.3776145 ],\n",
       "       [-0.07601785,  0.16630863],\n",
       "       [-0.07601785,  1.99432148],\n",
       "       [-0.75173211,  0.28424494],\n",
       "       [-1.13785454,  0.3432131 ],\n",
       "       [ 0.31010458, -0.27595254],\n",
       "       [ 0.98581884, -1.16047489],\n",
       "       [ 1.37194127,  0.6085698 ],\n",
       "       [-1.52397698, -1.51428383],\n",
       "       [-0.94479333, -0.7476978 ],\n",
       "       [-1.13785454,  0.07785639],\n",
       "       [ 0.40663519, -0.45285701],\n",
       "       [-1.91009941, -0.7476978 ],\n",
       "       [ 0.40663519,  0.28424494],\n",
       "       [-0.26907907,  0.22527679],\n",
       "       [-0.5586709 ,  0.49063349],\n",
       "       [-0.36560968, -0.77718187],\n",
       "       [-0.26907907,  0.04837232],\n",
       "       [-0.07601785,  0.22527679],\n",
       "       [-0.26907907,  0.16630863],\n",
       "       [ 0.31010458, -0.54130925],\n",
       "       [ 0.79275762,  0.78547427],\n",
       "       [ 0.98581884,  2.02380556],\n",
       "       [-0.17254846, -0.27595254],\n",
       "       [-1.04132394, -0.45285701],\n",
       "       [-0.26907907, -0.3349207 ],\n",
       "       [ 0.11704336, -0.30543662],\n",
       "       [-0.26907907, -0.7476978 ],\n",
       "       [-0.07601785, -1.07202266],\n",
       "       [-0.26907907,  0.07785639],\n",
       "       [ 0.5031658 ,  1.75844885],\n",
       "       [-0.36560968,  1.25721952],\n",
       "       [ 0.79275762,  1.40463991],\n",
       "       [ 0.98581884, -0.83615003],\n",
       "       [-1.71703819, -1.36686344],\n",
       "       [-0.84826272,  0.31372902],\n",
       "       [-0.84826272,  2.31864634]])"
      ]
     },
     "execution_count": 11,
     "metadata": {},
     "output_type": "execute_result"
    }
   ],
   "source": [
    "X_train = scaler.fit_transform(X_train)\n",
    "X_train"
   ]
  },
  {
   "cell_type": "code",
   "execution_count": 12,
   "metadata": {},
   "outputs": [
    {
     "data": {
      "text/plain": [
       "array([[-0.84826272,  0.40218125],\n",
       "       [-1.62050759, -1.57325199],\n",
       "       [-0.07601785, -0.48234109],\n",
       "       [-0.84826272,  0.16630863],\n",
       "       [ 1.56500249,  0.01888824],\n",
       "       [ 0.88928823, -1.45531567],\n",
       "       [-1.42744637,  0.37269718],\n",
       "       [-0.94479333, -1.10150673],\n",
       "       [ 0.21357397, -0.27595254],\n",
       "       [-0.17254846,  1.66999662],\n",
       "       [-1.33091576, -1.36686344],\n",
       "       [-1.52397698, -1.24892713],\n",
       "       [-0.5586709 ,  1.40463991],\n",
       "       [ 0.69622701,  0.28424494],\n",
       "       [-0.26907907, -0.30543662],\n",
       "       [-0.46214029, -0.77718187],\n",
       "       [-1.8135688 ,  0.01888824],\n",
       "       [ 2.14418614, -0.80666595],\n",
       "       [ 1.46847188,  0.07785639],\n",
       "       [-1.13785454, -0.77718187],\n",
       "       [-0.07601785,  0.25476086],\n",
       "       [ 0.69622701, -0.71821372],\n",
       "       [-0.75173211, -0.21698439],\n",
       "       [-0.17254846, -1.07202266],\n",
       "       [-1.23438515,  0.31372902],\n",
       "       [ 0.69622701, -1.10150673],\n",
       "       [ 0.69622701, -1.39634752],\n",
       "       [ 0.21357397, -0.36440478],\n",
       "       [ 0.5996964 ,  2.05328964],\n",
       "       [-0.5586709 ,  0.90341058],\n",
       "       [-1.33091576, -0.42337294],\n",
       "       [ 0.31010458, -0.51182517],\n",
       "       [ 0.79275762, -1.36686344],\n",
       "       [ 0.02051275, -0.30543662],\n",
       "       [-0.5586709 ,  2.3776145 ],\n",
       "       [-0.26907907,  0.63805388],\n",
       "       [ 0.98581884,  0.13682455],\n",
       "       [-0.26907907, -1.36686344],\n",
       "       [-0.84826272, -0.77718187],\n",
       "       [ 0.88928823,  1.10979913],\n",
       "       [-0.26907907, -0.89511819],\n",
       "       [ 0.40663519, -0.12853215],\n",
       "       [-1.04132394,  0.54960165],\n",
       "       [ 0.40663519,  0.31372902],\n",
       "       [-1.91009941, -0.04007992],\n",
       "       [ 0.88928823, -0.54130925],\n",
       "       [-1.33091576,  0.43166533],\n",
       "       [ 0.88928823, -1.04253858],\n",
       "       [ 0.98581884,  1.46360807],\n",
       "       [-1.13785454, -1.60273606],\n",
       "       [-1.04132394,  0.78547427],\n",
       "       [ 0.40663519,  2.34813042],\n",
       "       [-0.36560968,  0.07785639],\n",
       "       [ 0.11704336,  0.28424494],\n",
       "       [-1.13785454,  1.43412399],\n",
       "       [-1.52397698, -0.18750031],\n",
       "       [ 0.31010458, -1.16047489],\n",
       "       [ 0.40663519,  1.13928321],\n",
       "       [ 0.5031658 ,  1.87638517],\n",
       "       [-0.6552015 ,  0.13682455],\n",
       "       [-1.13785454,  0.43166533],\n",
       "       [ 2.04765553,  1.78793293],\n",
       "       [ 1.95112492,  0.75599019],\n",
       "       [ 0.31010458,  0.04837232],\n",
       "       [-1.23438515,  0.6085698 ],\n",
       "       [-0.26907907,  2.28916226],\n",
       "       [ 0.69622701, -1.2784112 ],\n",
       "       [-0.17254846, -0.45285701],\n",
       "       [-0.6552015 , -0.04007992],\n",
       "       [ 1.85459431, -1.2784112 ],\n",
       "       [-0.07601785, -0.21698439],\n",
       "       [ 1.95112492,  0.93289466],\n",
       "       [-0.46214029, -0.54130925],\n",
       "       [-0.84826272, -0.77718187],\n",
       "       [ 1.7580637 ,  1.87638517],\n",
       "       [-0.26907907,  0.07785639],\n",
       "       [ 2.14418614,  0.96237874],\n",
       "       [-1.33091576, -0.3349207 ],\n",
       "       [ 1.66153309,  1.64051254],\n",
       "       [-1.71703819,  0.37269718]])"
      ]
     },
     "execution_count": 12,
     "metadata": {},
     "output_type": "execute_result"
    }
   ],
   "source": [
    "X_test = scaler.transform(X_test)\n",
    "X_test"
   ]
  },
  {
   "cell_type": "code",
   "execution_count": 14,
   "metadata": {},
   "outputs": [
    {
     "data": {
      "text/plain": [
       "17"
      ]
     },
     "execution_count": 14,
     "metadata": {},
     "output_type": "execute_result"
    }
   ],
   "source": [
    "k = int(np.sqrt(X_train.shape[0]))\n",
    "k"
   ]
  },
  {
   "cell_type": "code",
   "execution_count": 15,
   "metadata": {},
   "outputs": [
    {
     "data": {
      "text/html": [
       "<style>#sk-container-id-1 {color: black;background-color: white;}#sk-container-id-1 pre{padding: 0;}#sk-container-id-1 div.sk-toggleable {background-color: white;}#sk-container-id-1 label.sk-toggleable__label {cursor: pointer;display: block;width: 100%;margin-bottom: 0;padding: 0.3em;box-sizing: border-box;text-align: center;}#sk-container-id-1 label.sk-toggleable__label-arrow:before {content: \"▸\";float: left;margin-right: 0.25em;color: #696969;}#sk-container-id-1 label.sk-toggleable__label-arrow:hover:before {color: black;}#sk-container-id-1 div.sk-estimator:hover label.sk-toggleable__label-arrow:before {color: black;}#sk-container-id-1 div.sk-toggleable__content {max-height: 0;max-width: 0;overflow: hidden;text-align: left;background-color: #f0f8ff;}#sk-container-id-1 div.sk-toggleable__content pre {margin: 0.2em;color: black;border-radius: 0.25em;background-color: #f0f8ff;}#sk-container-id-1 input.sk-toggleable__control:checked~div.sk-toggleable__content {max-height: 200px;max-width: 100%;overflow: auto;}#sk-container-id-1 input.sk-toggleable__control:checked~label.sk-toggleable__label-arrow:before {content: \"▾\";}#sk-container-id-1 div.sk-estimator input.sk-toggleable__control:checked~label.sk-toggleable__label {background-color: #d4ebff;}#sk-container-id-1 div.sk-label input.sk-toggleable__control:checked~label.sk-toggleable__label {background-color: #d4ebff;}#sk-container-id-1 input.sk-hidden--visually {border: 0;clip: rect(1px 1px 1px 1px);clip: rect(1px, 1px, 1px, 1px);height: 1px;margin: -1px;overflow: hidden;padding: 0;position: absolute;width: 1px;}#sk-container-id-1 div.sk-estimator {font-family: monospace;background-color: #f0f8ff;border: 1px dotted black;border-radius: 0.25em;box-sizing: border-box;margin-bottom: 0.5em;}#sk-container-id-1 div.sk-estimator:hover {background-color: #d4ebff;}#sk-container-id-1 div.sk-parallel-item::after {content: \"\";width: 100%;border-bottom: 1px solid gray;flex-grow: 1;}#sk-container-id-1 div.sk-label:hover label.sk-toggleable__label {background-color: #d4ebff;}#sk-container-id-1 div.sk-serial::before {content: \"\";position: absolute;border-left: 1px solid gray;box-sizing: border-box;top: 0;bottom: 0;left: 50%;z-index: 0;}#sk-container-id-1 div.sk-serial {display: flex;flex-direction: column;align-items: center;background-color: white;padding-right: 0.2em;padding-left: 0.2em;position: relative;}#sk-container-id-1 div.sk-item {position: relative;z-index: 1;}#sk-container-id-1 div.sk-parallel {display: flex;align-items: stretch;justify-content: center;background-color: white;position: relative;}#sk-container-id-1 div.sk-item::before, #sk-container-id-1 div.sk-parallel-item::before {content: \"\";position: absolute;border-left: 1px solid gray;box-sizing: border-box;top: 0;bottom: 0;left: 50%;z-index: -1;}#sk-container-id-1 div.sk-parallel-item {display: flex;flex-direction: column;z-index: 1;position: relative;background-color: white;}#sk-container-id-1 div.sk-parallel-item:first-child::after {align-self: flex-end;width: 50%;}#sk-container-id-1 div.sk-parallel-item:last-child::after {align-self: flex-start;width: 50%;}#sk-container-id-1 div.sk-parallel-item:only-child::after {width: 0;}#sk-container-id-1 div.sk-dashed-wrapped {border: 1px dashed gray;margin: 0 0.4em 0.5em 0.4em;box-sizing: border-box;padding-bottom: 0.4em;background-color: white;}#sk-container-id-1 div.sk-label label {font-family: monospace;font-weight: bold;display: inline-block;line-height: 1.2em;}#sk-container-id-1 div.sk-label-container {text-align: center;}#sk-container-id-1 div.sk-container {/* jupyter's `normalize.less` sets `[hidden] { display: none; }` but bootstrap.min.css set `[hidden] { display: none !important; }` so we also need the `!important` here to be able to override the default hidden behavior on the sphinx rendered scikit-learn.org. See: https://github.com/scikit-learn/scikit-learn/issues/21755 */display: inline-block !important;position: relative;}#sk-container-id-1 div.sk-text-repr-fallback {display: none;}</style><div id=\"sk-container-id-1\" class=\"sk-top-container\"><div class=\"sk-text-repr-fallback\"><pre>KNeighborsClassifier(n_neighbors=17)</pre><b>In a Jupyter environment, please rerun this cell to show the HTML representation or trust the notebook. <br />On GitHub, the HTML representation is unable to render, please try loading this page with nbviewer.org.</b></div><div class=\"sk-container\" hidden><div class=\"sk-item\"><div class=\"sk-estimator sk-toggleable\"><input class=\"sk-toggleable__control sk-hidden--visually\" id=\"sk-estimator-id-1\" type=\"checkbox\" checked><label for=\"sk-estimator-id-1\" class=\"sk-toggleable__label sk-toggleable__label-arrow\">KNeighborsClassifier</label><div class=\"sk-toggleable__content\"><pre>KNeighborsClassifier(n_neighbors=17)</pre></div></div></div></div></div>"
      ],
      "text/plain": [
       "KNeighborsClassifier(n_neighbors=17)"
      ]
     },
     "execution_count": 15,
     "metadata": {},
     "output_type": "execute_result"
    }
   ],
   "source": [
    "from sklearn.neighbors import KNeighborsClassifier\n",
    "knn = KNeighborsClassifier(n_neighbors=k)\n",
    "knn.fit(X_train,y_train)"
   ]
  },
  {
   "cell_type": "code",
   "execution_count": 16,
   "metadata": {},
   "outputs": [
    {
     "data": {
      "text/plain": [
       "array([0, 0, 0, 0, 1, 1, 0, 0, 0, 1, 0, 0, 1, 0, 0, 0, 0, 1, 1, 0, 0, 0,\n",
       "       0, 0, 0, 1, 1, 0, 1, 0, 0, 0, 1, 0, 1, 0, 1, 0, 0, 1, 0, 0, 0, 0,\n",
       "       0, 0, 0, 1, 1, 0, 0, 1, 0, 0, 0, 0, 0, 1, 1, 0, 0, 1, 1, 0, 0, 1,\n",
       "       1, 0, 0, 1, 0, 1, 0, 0, 1, 0, 1, 0, 1, 0], dtype=int64)"
      ]
     },
     "execution_count": 16,
     "metadata": {},
     "output_type": "execute_result"
    }
   ],
   "source": [
    "y_pred = knn.predict(X_test)\n",
    "y_pred"
   ]
  },
  {
   "cell_type": "code",
   "execution_count": 17,
   "metadata": {},
   "outputs": [
    {
     "data": {
      "text/plain": [
       "0.9125"
      ]
     },
     "execution_count": 17,
     "metadata": {},
     "output_type": "execute_result"
    }
   ],
   "source": [
    "from sklearn.metrics import accuracy_score\n",
    "accuracy_score(y_test, y_pred)"
   ]
  },
  {
   "cell_type": "code",
   "execution_count": 19,
   "metadata": {},
   "outputs": [
    {
     "data": {
      "text/plain": [
       "[0.8875,\n",
       " 0.8625,\n",
       " 0.925,\n",
       " 0.8625,\n",
       " 0.8875,\n",
       " 0.875,\n",
       " 0.9,\n",
       " 0.875,\n",
       " 0.9125,\n",
       " 0.8875,\n",
       " 0.9,\n",
       " 0.9,\n",
       " 0.9125,\n",
       " 0.9,\n",
       " 0.9,\n",
       " 0.9125,\n",
       " 0.9125,\n",
       " 0.9125,\n",
       " 0.925,\n",
       " 0.925,\n",
       " 0.9375,\n",
       " 0.9125,\n",
       " 0.9125,\n",
       " 0.9,\n",
       " 0.9125]"
      ]
     },
     "execution_count": 19,
     "metadata": {},
     "output_type": "execute_result"
    }
   ],
   "source": [
    "accuracy = []\n",
    "\n",
    "for i in range(1, 26):\n",
    "    knn = KNeighborsClassifier(n_neighbors=i)\n",
    "    knn.fit(X_train,y_train)\n",
    "    y_pred = knn.predict(X_test)\n",
    "    accuracy.append(accuracy_score(y_test, y_pred))\n",
    "\n",
    "accuracy\n"
   ]
  },
  {
   "cell_type": "code",
   "execution_count": 20,
   "metadata": {},
   "outputs": [
    {
     "data": {
      "text/plain": [
       "[<matplotlib.lines.Line2D at 0x1b4b5ac86d0>]"
      ]
     },
     "execution_count": 20,
     "metadata": {},
     "output_type": "execute_result"
    },
    {
     "data": {
      "image/png": "[encoded data removed]",
      "text/plain": [
       "<Figure size 432x288 with 1 Axes>"
      ]
     },
     "metadata": {
      "needs_background": "light"
     },
     "output_type": "display_data"
    }
   ],
   "source": [
    "plt.plot(range(1,26),accuracy)"
   ]
  },
  {
   "cell_type": "code",
   "execution_count": 29,
   "metadata": {},
   "outputs": [],
   "source": [
    "def predict_output():\n",
    "    age = int(input(\"Enter the age: \"))\n",
    "    salary = int(input(\"Enter the salary: \"))\n",
    "    X_new = np.array([[age], [salary]]).reshape(1,2) \n",
    "    X_new = scaler.transform(X_new)\n",
    "\n",
    "    if(knn.predict(X_new)[0] == 0):\n",
    "        return \"Won't Purchase\"\n",
    "    else:\n",
    "        return \"Will Purchase\"\n",
    "    "
   ]
  },
  {
   "cell_type": "code",
   "execution_count": 30,
   "metadata": {},
   "outputs": [
    {
     "name": "stderr",
     "output_type": "stream",
     "text": [
      "c:\\Anaconda3\\lib\\site-packages\\sklearn\\base.py:450: UserWarning: X does not have valid feature names, but StandardScaler was fitted with feature names\n",
      "  warnings.warn(\n"
     ]
    },
    {
     "data": {
      "text/plain": [
       "\"Won't Purchase\""
      ]
     },
     "execution_count": 30,
     "metadata": {},
     "output_type": "execute_result"
    }
   ],
   "source": [
    "predict_output()"
   ]
  },
  {
   "cell_type": "code",
   "execution_count": null,
   "metadata": {},
   "outputs": [],
   "source": []
  }
 ],
 "metadata": {
  "kernelspec": {
   "display_name": "Python 3.8.8 ('base')",
   "language": "python",
   "name": "python3"
  },
  "language_info": {
   "codemirror_mode": {
    "name": "ipython",
    "version": 3
   },
   "file_extension": ".py",
   "mimetype": "text/x-python",
   "name": "python",
   "nbconvert_exporter": "python",
   "pygments_lexer": "ipython3",
   "version": "3.8.8"
  },
  "orig_nbformat": 4,
  "vscode": {
   "interpreter": {
    "hash": "e4cce46d6be9934fbd27f9ca0432556941ea5bdf741d4f4d64c6cd7f8dfa8fba"
   }
  }
 },
 "nbformat": 4,
 "nbformat_minor": 2
}
