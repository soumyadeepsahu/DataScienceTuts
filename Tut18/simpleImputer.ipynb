{
 "cells": [
  {
   "cell_type": "code",
   "execution_count": 1,
   "metadata": {},
   "outputs": [],
   "source": [
    "import pandas as pd\n",
    "import numpy as np\n",
    "import matplotlib.pyplot as plt"
   ]
  },
  {
   "cell_type": "code",
   "execution_count": 2,
   "metadata": {},
   "outputs": [],
   "source": [
    "from sklearn.model_selection import train_test_split\n",
    "from sklearn.impute import SimpleImputer\n",
    "from sklearn.compose import ColumnTransformer  "
   ]
  },
  {
   "cell_type": "code",
   "execution_count": 3,
   "metadata": {},
   "outputs": [],
   "source": [
    "df = pd.read_csv('titanic_toy.csv')"
   ]
  },
  {
   "cell_type": "code",
   "execution_count": 4,
   "metadata": {},
   "outputs": [
    {
     "data": {
      "text/html": [
       "<div>\n",
       "<style scoped>\n",
       "    .dataframe tbody tr th:only-of-type {\n",
       "        vertical-align: middle;\n",
       "    }\n",
       "\n",
       "    .dataframe tbody tr th {\n",
       "        vertical-align: top;\n",
       "    }\n",
       "\n",
       "    .dataframe thead th {\n",
       "        text-align: right;\n",
       "    }\n",
       "</style>\n",
       "<table border=\"1\" class=\"dataframe\">\n",
       "  <thead>\n",
       "    <tr style=\"text-align: right;\">\n",
       "      <th></th>\n",
       "      <th>Age</th>\n",
       "      <th>Fare</th>\n",
       "      <th>Family</th>\n",
       "      <th>Survived</th>\n",
       "    </tr>\n",
       "  </thead>\n",
       "  <tbody>\n",
       "    <tr>\n",
       "      <th>0</th>\n",
       "      <td>22.0</td>\n",
       "      <td>7.2500</td>\n",
       "      <td>1</td>\n",
       "      <td>0</td>\n",
       "    </tr>\n",
       "    <tr>\n",
       "      <th>1</th>\n",
       "      <td>38.0</td>\n",
       "      <td>71.2833</td>\n",
       "      <td>1</td>\n",
       "      <td>1</td>\n",
       "    </tr>\n",
       "    <tr>\n",
       "      <th>2</th>\n",
       "      <td>26.0</td>\n",
       "      <td>7.9250</td>\n",
       "      <td>0</td>\n",
       "      <td>1</td>\n",
       "    </tr>\n",
       "    <tr>\n",
       "      <th>3</th>\n",
       "      <td>35.0</td>\n",
       "      <td>53.1000</td>\n",
       "      <td>1</td>\n",
       "      <td>1</td>\n",
       "    </tr>\n",
       "    <tr>\n",
       "      <th>4</th>\n",
       "      <td>35.0</td>\n",
       "      <td>8.0500</td>\n",
       "      <td>0</td>\n",
       "      <td>0</td>\n",
       "    </tr>\n",
       "  </tbody>\n",
       "</table>\n",
       "</div>"
      ],
      "text/plain": [
       "    Age     Fare  Family  Survived\n",
       "0  22.0   7.2500       1         0\n",
       "1  38.0  71.2833       1         1\n",
       "2  26.0   7.9250       0         1\n",
       "3  35.0  53.1000       1         1\n",
       "4  35.0   8.0500       0         0"
      ]
     },
     "execution_count": 4,
     "metadata": {},
     "output_type": "execute_result"
    }
   ],
   "source": [
    "df.head()"
   ]
  },
  {
   "cell_type": "code",
   "execution_count": 5,
   "metadata": {},
   "outputs": [
    {
     "name": "stdout",
     "output_type": "stream",
     "text": [
      "<class 'pandas.core.frame.DataFrame'>\n",
      "RangeIndex: 891 entries, 0 to 890\n",
      "Data columns (total 4 columns):\n",
      " #   Column    Non-Null Count  Dtype  \n",
      "---  ------    --------------  -----  \n",
      " 0   Age       714 non-null    float64\n",
      " 1   Fare      846 non-null    float64\n",
      " 2   Family    891 non-null    int64  \n",
      " 3   Survived  891 non-null    int64  \n",
      "dtypes: float64(2), int64(2)\n",
      "memory usage: 28.0 KB\n"
     ]
    }
   ],
   "source": [
    "df.info()"
   ]
  },
  {
   "cell_type": "code",
   "execution_count": 6,
   "metadata": {},
   "outputs": [
    {
     "data": {
      "text/plain": [
       "Age         0.198653\n",
       "Fare        0.050505\n",
       "Family      0.000000\n",
       "Survived    0.000000\n",
       "dtype: float64"
      ]
     },
     "execution_count": 6,
     "metadata": {},
     "output_type": "execute_result"
    }
   ],
   "source": [
    "df.isnull().mean()"
   ]
  },
  {
   "cell_type": "code",
   "execution_count": 7,
   "metadata": {},
   "outputs": [],
   "source": [
    "X = df.drop(columns=['Survived'])\n",
    "y = df['Survived']"
   ]
  },
  {
   "cell_type": "code",
   "execution_count": 8,
   "metadata": {},
   "outputs": [],
   "source": [
    "X_train, X_test, y_train, y_test = train_test_split(X, y, test_size=0.2, random_state=2)"
   ]
  },
  {
   "cell_type": "code",
   "execution_count": 9,
   "metadata": {},
   "outputs": [
    {
     "data": {
      "text/plain": [
       "((712, 3), (179, 3))"
      ]
     },
     "execution_count": 9,
     "metadata": {},
     "output_type": "execute_result"
    }
   ],
   "source": [
    "X_train.shape, X_test.shape"
   ]
  },
  {
   "cell_type": "code",
   "execution_count": 10,
   "metadata": {},
   "outputs": [],
   "source": [
    "mean_age = X_train['Age'].mean()\n",
    "median_age = X_train['Age'].median()\n",
    "\n",
    "mean_fare = X_train['Fare'].mean()\n",
    "median_fare = X_train['Fare'].median()"
   ]
  },
  {
   "cell_type": "code",
   "execution_count": 11,
   "metadata": {},
   "outputs": [
    {
     "name": "stderr",
     "output_type": "stream",
     "text": [
      "<ipython-input-11-8fc55a449f59>:1: SettingWithCopyWarning: \n",
      "A value is trying to be set on a copy of a slice from a DataFrame.\n",
      "Try using .loc[row_indexer,col_indexer] = value instead\n",
      "\n",
      "See the caveats in the documentation: https://pandas.pydata.org/pandas-docs/stable/user_guide/indexing.html#returning-a-view-versus-a-copy\n",
      "  X_train['Age_median'] = X_train['Age'].fillna(median_age)\n",
      "<ipython-input-11-8fc55a449f59>:2: SettingWithCopyWarning: \n",
      "A value is trying to be set on a copy of a slice from a DataFrame.\n",
      "Try using .loc[row_indexer,col_indexer] = value instead\n",
      "\n",
      "See the caveats in the documentation: https://pandas.pydata.org/pandas-docs/stable/user_guide/indexing.html#returning-a-view-versus-a-copy\n",
      "  X_train['Age_mean'] = X_train['Age'].fillna(mean_age)\n",
      "<ipython-input-11-8fc55a449f59>:4: SettingWithCopyWarning: \n",
      "A value is trying to be set on a copy of a slice from a DataFrame.\n",
      "Try using .loc[row_indexer,col_indexer] = value instead\n",
      "\n",
      "See the caveats in the documentation: https://pandas.pydata.org/pandas-docs/stable/user_guide/indexing.html#returning-a-view-versus-a-copy\n",
      "  X_train['Fare_median'] = X_train['Fare'].fillna(median_age)\n",
      "<ipython-input-11-8fc55a449f59>:5: SettingWithCopyWarning: \n",
      "A value is trying to be set on a copy of a slice from a DataFrame.\n",
      "Try using .loc[row_indexer,col_indexer] = value instead\n",
      "\n",
      "See the caveats in the documentation: https://pandas.pydata.org/pandas-docs/stable/user_guide/indexing.html#returning-a-view-versus-a-copy\n",
      "  X_train['Fare_mean'] = X_train['Fare'].fillna(mean_age)\n"
     ]
    }
   ],
   "source": [
    "X_train['Age_median'] = X_train['Age'].fillna(median_age)\n",
    "X_train['Age_mean'] = X_train['Age'].fillna(mean_age)\n",
    "\n",
    "X_train['Fare_median'] = X_train['Fare'].fillna(median_age)\n",
    "X_train['Fare_mean'] = X_train['Fare'].fillna(mean_age)\n"
   ]
  },
  {
   "cell_type": "code",
   "execution_count": 16,
   "metadata": {},
   "outputs": [
    {
     "data": {
      "text/html": [
       "<div>\n",
       "<style scoped>\n",
       "    .dataframe tbody tr th:only-of-type {\n",
       "        vertical-align: middle;\n",
       "    }\n",
       "\n",
       "    .dataframe tbody tr th {\n",
       "        vertical-align: top;\n",
       "    }\n",
       "\n",
       "    .dataframe thead th {\n",
       "        text-align: right;\n",
       "    }\n",
       "</style>\n",
       "<table border=\"1\" class=\"dataframe\">\n",
       "  <thead>\n",
       "    <tr style=\"text-align: right;\">\n",
       "      <th></th>\n",
       "      <th>Age</th>\n",
       "      <th>Fare</th>\n",
       "      <th>Family</th>\n",
       "      <th>Age_median</th>\n",
       "      <th>Age_mean</th>\n",
       "      <th>Fare_median</th>\n",
       "      <th>Fare_mean</th>\n",
       "    </tr>\n",
       "  </thead>\n",
       "  <tbody>\n",
       "    <tr>\n",
       "      <th>564</th>\n",
       "      <td>NaN</td>\n",
       "      <td>8.0500</td>\n",
       "      <td>0</td>\n",
       "      <td>28.75</td>\n",
       "      <td>29.785904</td>\n",
       "      <td>8.0500</td>\n",
       "      <td>8.050000</td>\n",
       "    </tr>\n",
       "    <tr>\n",
       "      <th>78</th>\n",
       "      <td>0.83</td>\n",
       "      <td>29.0000</td>\n",
       "      <td>2</td>\n",
       "      <td>0.83</td>\n",
       "      <td>0.830000</td>\n",
       "      <td>29.0000</td>\n",
       "      <td>29.000000</td>\n",
       "    </tr>\n",
       "    <tr>\n",
       "      <th>271</th>\n",
       "      <td>25.00</td>\n",
       "      <td>NaN</td>\n",
       "      <td>0</td>\n",
       "      <td>25.00</td>\n",
       "      <td>25.000000</td>\n",
       "      <td>28.7500</td>\n",
       "      <td>29.785904</td>\n",
       "    </tr>\n",
       "    <tr>\n",
       "      <th>408</th>\n",
       "      <td>21.00</td>\n",
       "      <td>7.7750</td>\n",
       "      <td>0</td>\n",
       "      <td>21.00</td>\n",
       "      <td>21.000000</td>\n",
       "      <td>7.7750</td>\n",
       "      <td>7.775000</td>\n",
       "    </tr>\n",
       "    <tr>\n",
       "      <th>187</th>\n",
       "      <td>45.00</td>\n",
       "      <td>26.5500</td>\n",
       "      <td>0</td>\n",
       "      <td>45.00</td>\n",
       "      <td>45.000000</td>\n",
       "      <td>26.5500</td>\n",
       "      <td>26.550000</td>\n",
       "    </tr>\n",
       "    <tr>\n",
       "      <th>797</th>\n",
       "      <td>31.00</td>\n",
       "      <td>8.6833</td>\n",
       "      <td>0</td>\n",
       "      <td>31.00</td>\n",
       "      <td>31.000000</td>\n",
       "      <td>8.6833</td>\n",
       "      <td>8.683300</td>\n",
       "    </tr>\n",
       "    <tr>\n",
       "      <th>55</th>\n",
       "      <td>NaN</td>\n",
       "      <td>35.5000</td>\n",
       "      <td>0</td>\n",
       "      <td>28.75</td>\n",
       "      <td>29.785904</td>\n",
       "      <td>35.5000</td>\n",
       "      <td>35.500000</td>\n",
       "    </tr>\n",
       "    <tr>\n",
       "      <th>59</th>\n",
       "      <td>11.00</td>\n",
       "      <td>46.9000</td>\n",
       "      <td>7</td>\n",
       "      <td>11.00</td>\n",
       "      <td>11.000000</td>\n",
       "      <td>46.9000</td>\n",
       "      <td>46.900000</td>\n",
       "    </tr>\n",
       "    <tr>\n",
       "      <th>224</th>\n",
       "      <td>38.00</td>\n",
       "      <td>90.0000</td>\n",
       "      <td>1</td>\n",
       "      <td>38.00</td>\n",
       "      <td>38.000000</td>\n",
       "      <td>90.0000</td>\n",
       "      <td>90.000000</td>\n",
       "    </tr>\n",
       "    <tr>\n",
       "      <th>841</th>\n",
       "      <td>16.00</td>\n",
       "      <td>10.5000</td>\n",
       "      <td>0</td>\n",
       "      <td>16.00</td>\n",
       "      <td>16.000000</td>\n",
       "      <td>10.5000</td>\n",
       "      <td>10.500000</td>\n",
       "    </tr>\n",
       "    <tr>\n",
       "      <th>849</th>\n",
       "      <td>NaN</td>\n",
       "      <td>89.1042</td>\n",
       "      <td>1</td>\n",
       "      <td>28.75</td>\n",
       "      <td>29.785904</td>\n",
       "      <td>89.1042</td>\n",
       "      <td>89.104200</td>\n",
       "    </tr>\n",
       "    <tr>\n",
       "      <th>681</th>\n",
       "      <td>27.00</td>\n",
       "      <td>76.7292</td>\n",
       "      <td>0</td>\n",
       "      <td>27.00</td>\n",
       "      <td>27.000000</td>\n",
       "      <td>76.7292</td>\n",
       "      <td>76.729200</td>\n",
       "    </tr>\n",
       "    <tr>\n",
       "      <th>191</th>\n",
       "      <td>19.00</td>\n",
       "      <td>13.0000</td>\n",
       "      <td>0</td>\n",
       "      <td>19.00</td>\n",
       "      <td>19.000000</td>\n",
       "      <td>13.0000</td>\n",
       "      <td>13.000000</td>\n",
       "    </tr>\n",
       "    <tr>\n",
       "      <th>123</th>\n",
       "      <td>32.50</td>\n",
       "      <td>13.0000</td>\n",
       "      <td>0</td>\n",
       "      <td>32.50</td>\n",
       "      <td>32.500000</td>\n",
       "      <td>13.0000</td>\n",
       "      <td>13.000000</td>\n",
       "    </tr>\n",
       "    <tr>\n",
       "      <th>298</th>\n",
       "      <td>NaN</td>\n",
       "      <td>30.5000</td>\n",
       "      <td>0</td>\n",
       "      <td>28.75</td>\n",
       "      <td>29.785904</td>\n",
       "      <td>30.5000</td>\n",
       "      <td>30.500000</td>\n",
       "    </tr>\n",
       "  </tbody>\n",
       "</table>\n",
       "</div>"
      ],
      "text/plain": [
       "       Age     Fare  Family  Age_median   Age_mean  Fare_median  Fare_mean\n",
       "564    NaN   8.0500       0       28.75  29.785904       8.0500   8.050000\n",
       "78    0.83  29.0000       2        0.83   0.830000      29.0000  29.000000\n",
       "271  25.00      NaN       0       25.00  25.000000      28.7500  29.785904\n",
       "408  21.00   7.7750       0       21.00  21.000000       7.7750   7.775000\n",
       "187  45.00  26.5500       0       45.00  45.000000      26.5500  26.550000\n",
       "797  31.00   8.6833       0       31.00  31.000000       8.6833   8.683300\n",
       "55     NaN  35.5000       0       28.75  29.785904      35.5000  35.500000\n",
       "59   11.00  46.9000       7       11.00  11.000000      46.9000  46.900000\n",
       "224  38.00  90.0000       1       38.00  38.000000      90.0000  90.000000\n",
       "841  16.00  10.5000       0       16.00  16.000000      10.5000  10.500000\n",
       "849    NaN  89.1042       1       28.75  29.785904      89.1042  89.104200\n",
       "681  27.00  76.7292       0       27.00  27.000000      76.7292  76.729200\n",
       "191  19.00  13.0000       0       19.00  19.000000      13.0000  13.000000\n",
       "123  32.50  13.0000       0       32.50  32.500000      13.0000  13.000000\n",
       "298    NaN  30.5000       0       28.75  29.785904      30.5000  30.500000"
      ]
     },
     "execution_count": 16,
     "metadata": {},
     "output_type": "execute_result"
    }
   ],
   "source": [
    "X_train.sample(15)"
   ]
  },
  {
   "cell_type": "code",
   "execution_count": 17,
   "metadata": {},
   "outputs": [
    {
     "name": "stdout",
     "output_type": "stream",
     "text": [
      "Original Age variable variance:  204.3495133904614\n",
      "Age Variance after median imputation:  161.9895663346054\n",
      "Age Variance after mean imputation:  161.81262452718673\n",
      "Original Fare variable variance:  2448.197913706318\n",
      "Fare Variance after median imputation:  2324.9576136149317\n",
      "Fare Variance after mean imputation:  2324.623996772905\n"
     ]
    }
   ],
   "source": [
    "print('Original Age variable variance: ', X_train['Age'].var())\n",
    "print('Age Variance after median imputation: ', X_train['Age_median'].var())\n",
    "print('Age Variance after mean imputation: ', X_train['Age_mean'].var())\n",
    "\n",
    "print('Original Fare variable variance: ', X_train['Fare'].var())\n",
    "print('Fare Variance after median imputation: ', X_train['Fare_median'].var())\n",
    "print('Fare Variance after mean imputation: ', X_train['Fare_mean'].var())"
   ]
  },
  {
   "cell_type": "code",
   "execution_count": 18,
   "metadata": {},
   "outputs": [
    {
     "data": {
      "text/plain": [
       "<matplotlib.legend.Legend at 0x1ffa3f72be0>"
      ]
     },
     "execution_count": 18,
     "metadata": {},
     "output_type": "execute_result"
    },
    {
     "data": {
      "image/png": "[encoded data removed]",
      "text/plain": [
       "<Figure size 432x288 with 1 Axes>"
      ]
     },
     "metadata": {
      "needs_background": "light"
     },
     "output_type": "display_data"
    }
   ],
   "source": [
    "fig = plt.figure()\n",
    "ax = fig.add_subplot(111)\n",
    "\n",
    "# original variable distribution\n",
    "X_train['Age'].plot(kind='kde', ax=ax)\n",
    "\n",
    "# variable imputed with the median\n",
    "X_train['Age_median'].plot(kind='kde', ax=ax, color='red')\n",
    "\n",
    "# variable imputed with the mean\n",
    "X_train['Age_mean'].plot(kind='kde', ax=ax, color='green')\n",
    "\n",
    "# add legends\n",
    "lines, labels = ax.get_legend_handles_labels()\n",
    "ax.legend(lines, labels, loc='best')"
   ]
  },
  {
   "cell_type": "code",
   "execution_count": 19,
   "metadata": {},
   "outputs": [
    {
     "data": {
      "text/plain": [
       "<matplotlib.legend.Legend at 0x1ffa47782e0>"
      ]
     },
     "execution_count": 19,
     "metadata": {},
     "output_type": "execute_result"
    },
    {
     "data": {
      "image/png": "[encoded data removed]",
      "text/plain": [
       "<Figure size 432x288 with 1 Axes>"
      ]
     },
     "metadata": {
      "needs_background": "light"
     },
     "output_type": "display_data"
    }
   ],
   "source": [
    "fig = plt.figure()\n",
    "ax = fig.add_subplot(111)\n",
    "\n",
    "# original variable distribution\n",
    "X_train['Fare'].plot(kind='kde', ax=ax)\n",
    "\n",
    "# variable imputed with the median\n",
    "X_train['Fare_median'].plot(kind='kde', ax=ax, color='red')\n",
    "\n",
    "# variable imputed with the mean\n",
    "X_train['Fare_mean'].plot(kind='kde', ax=ax, color='green')\n",
    "\n",
    "# add legends\n",
    "lines, labels = ax.get_legend_handles_labels()\n",
    "ax.legend(lines, labels, loc='best')"
   ]
  },
  {
   "cell_type": "code",
   "execution_count": 21,
   "metadata": {},
   "outputs": [
    {
     "data": {
      "text/html": [
       "<div>\n",
       "<style scoped>\n",
       "    .dataframe tbody tr th:only-of-type {\n",
       "        vertical-align: middle;\n",
       "    }\n",
       "\n",
       "    .dataframe tbody tr th {\n",
       "        vertical-align: top;\n",
       "    }\n",
       "\n",
       "    .dataframe thead th {\n",
       "        text-align: right;\n",
       "    }\n",
       "</style>\n",
       "<table border=\"1\" class=\"dataframe\">\n",
       "  <thead>\n",
       "    <tr style=\"text-align: right;\">\n",
       "      <th></th>\n",
       "      <th>Age</th>\n",
       "      <th>Fare</th>\n",
       "      <th>Family</th>\n",
       "      <th>Age_median</th>\n",
       "      <th>Age_mean</th>\n",
       "      <th>Fare_median</th>\n",
       "      <th>Fare_mean</th>\n",
       "    </tr>\n",
       "  </thead>\n",
       "  <tbody>\n",
       "    <tr>\n",
       "      <th>Age</th>\n",
       "      <td>204.349513</td>\n",
       "      <td>70.719262</td>\n",
       "      <td>-6.498901</td>\n",
       "      <td>204.349513</td>\n",
       "      <td>204.349513</td>\n",
       "      <td>66.280487</td>\n",
       "      <td>66.383530</td>\n",
       "    </tr>\n",
       "    <tr>\n",
       "      <th>Fare</th>\n",
       "      <td>70.719262</td>\n",
       "      <td>2448.197914</td>\n",
       "      <td>17.258917</td>\n",
       "      <td>57.957599</td>\n",
       "      <td>55.603719</td>\n",
       "      <td>2448.197914</td>\n",
       "      <td>2448.197914</td>\n",
       "    </tr>\n",
       "    <tr>\n",
       "      <th>Family</th>\n",
       "      <td>-6.498901</td>\n",
       "      <td>17.258917</td>\n",
       "      <td>2.735252</td>\n",
       "      <td>-5.112563</td>\n",
       "      <td>-5.146106</td>\n",
       "      <td>16.404484</td>\n",
       "      <td>16.399278</td>\n",
       "    </tr>\n",
       "    <tr>\n",
       "      <th>Age_median</th>\n",
       "      <td>204.349513</td>\n",
       "      <td>57.957599</td>\n",
       "      <td>-5.112563</td>\n",
       "      <td>161.989566</td>\n",
       "      <td>161.812625</td>\n",
       "      <td>54.710043</td>\n",
       "      <td>54.793876</td>\n",
       "    </tr>\n",
       "    <tr>\n",
       "      <th>Age_mean</th>\n",
       "      <td>204.349513</td>\n",
       "      <td>55.603719</td>\n",
       "      <td>-5.146106</td>\n",
       "      <td>161.812625</td>\n",
       "      <td>161.812625</td>\n",
       "      <td>52.483705</td>\n",
       "      <td>52.565299</td>\n",
       "    </tr>\n",
       "    <tr>\n",
       "      <th>Fare_median</th>\n",
       "      <td>66.280487</td>\n",
       "      <td>2448.197914</td>\n",
       "      <td>16.404484</td>\n",
       "      <td>54.710043</td>\n",
       "      <td>52.483705</td>\n",
       "      <td>2324.957614</td>\n",
       "      <td>2324.765012</td>\n",
       "    </tr>\n",
       "    <tr>\n",
       "      <th>Fare_mean</th>\n",
       "      <td>66.383530</td>\n",
       "      <td>2448.197914</td>\n",
       "      <td>16.399278</td>\n",
       "      <td>54.793876</td>\n",
       "      <td>52.565299</td>\n",
       "      <td>2324.765012</td>\n",
       "      <td>2324.623997</td>\n",
       "    </tr>\n",
       "  </tbody>\n",
       "</table>\n",
       "</div>"
      ],
      "text/plain": [
       "                    Age         Fare     Family  Age_median    Age_mean  \\\n",
       "Age          204.349513    70.719262  -6.498901  204.349513  204.349513   \n",
       "Fare          70.719262  2448.197914  17.258917   57.957599   55.603719   \n",
       "Family        -6.498901    17.258917   2.735252   -5.112563   -5.146106   \n",
       "Age_median   204.349513    57.957599  -5.112563  161.989566  161.812625   \n",
       "Age_mean     204.349513    55.603719  -5.146106  161.812625  161.812625   \n",
       "Fare_median   66.280487  2448.197914  16.404484   54.710043   52.483705   \n",
       "Fare_mean     66.383530  2448.197914  16.399278   54.793876   52.565299   \n",
       "\n",
       "             Fare_median    Fare_mean  \n",
       "Age            66.280487    66.383530  \n",
       "Fare         2448.197914  2448.197914  \n",
       "Family         16.404484    16.399278  \n",
       "Age_median     54.710043    54.793876  \n",
       "Age_mean       52.483705    52.565299  \n",
       "Fare_median  2324.957614  2324.765012  \n",
       "Fare_mean    2324.765012  2324.623997  "
      ]
     },
     "execution_count": 21,
     "metadata": {},
     "output_type": "execute_result"
    }
   ],
   "source": [
    "#Covariance\n",
    "\n",
    "X_train.cov()"
   ]
  },
  {
   "cell_type": "code",
   "execution_count": 22,
   "metadata": {},
   "outputs": [
    {
     "data": {
      "text/html": [
       "<div>\n",
       "<style scoped>\n",
       "    .dataframe tbody tr th:only-of-type {\n",
       "        vertical-align: middle;\n",
       "    }\n",
       "\n",
       "    .dataframe tbody tr th {\n",
       "        vertical-align: top;\n",
       "    }\n",
       "\n",
       "    .dataframe thead th {\n",
       "        text-align: right;\n",
       "    }\n",
       "</style>\n",
       "<table border=\"1\" class=\"dataframe\">\n",
       "  <thead>\n",
       "    <tr style=\"text-align: right;\">\n",
       "      <th></th>\n",
       "      <th>Age</th>\n",
       "      <th>Fare</th>\n",
       "      <th>Family</th>\n",
       "      <th>Age_median</th>\n",
       "      <th>Age_mean</th>\n",
       "      <th>Fare_median</th>\n",
       "      <th>Fare_mean</th>\n",
       "    </tr>\n",
       "  </thead>\n",
       "  <tbody>\n",
       "    <tr>\n",
       "      <th>Age</th>\n",
       "      <td>1.000000</td>\n",
       "      <td>0.092644</td>\n",
       "      <td>-0.299113</td>\n",
       "      <td>1.000000</td>\n",
       "      <td>1.000000</td>\n",
       "      <td>0.089604</td>\n",
       "      <td>0.089754</td>\n",
       "    </tr>\n",
       "    <tr>\n",
       "      <th>Fare</th>\n",
       "      <td>0.092644</td>\n",
       "      <td>1.000000</td>\n",
       "      <td>0.208268</td>\n",
       "      <td>0.091757</td>\n",
       "      <td>0.088069</td>\n",
       "      <td>1.000000</td>\n",
       "      <td>1.000000</td>\n",
       "    </tr>\n",
       "    <tr>\n",
       "      <th>Family</th>\n",
       "      <td>-0.299113</td>\n",
       "      <td>0.208268</td>\n",
       "      <td>1.000000</td>\n",
       "      <td>-0.242883</td>\n",
       "      <td>-0.244610</td>\n",
       "      <td>0.205710</td>\n",
       "      <td>0.205660</td>\n",
       "    </tr>\n",
       "    <tr>\n",
       "      <th>Age_median</th>\n",
       "      <td>1.000000</td>\n",
       "      <td>0.091757</td>\n",
       "      <td>-0.242883</td>\n",
       "      <td>1.000000</td>\n",
       "      <td>0.999454</td>\n",
       "      <td>0.089149</td>\n",
       "      <td>0.089292</td>\n",
       "    </tr>\n",
       "    <tr>\n",
       "      <th>Age_mean</th>\n",
       "      <td>1.000000</td>\n",
       "      <td>0.088069</td>\n",
       "      <td>-0.244610</td>\n",
       "      <td>0.999454</td>\n",
       "      <td>1.000000</td>\n",
       "      <td>0.085568</td>\n",
       "      <td>0.085707</td>\n",
       "    </tr>\n",
       "    <tr>\n",
       "      <th>Fare_median</th>\n",
       "      <td>0.089604</td>\n",
       "      <td>1.000000</td>\n",
       "      <td>0.205710</td>\n",
       "      <td>0.089149</td>\n",
       "      <td>0.085568</td>\n",
       "      <td>1.000000</td>\n",
       "      <td>0.999989</td>\n",
       "    </tr>\n",
       "    <tr>\n",
       "      <th>Fare_mean</th>\n",
       "      <td>0.089754</td>\n",
       "      <td>1.000000</td>\n",
       "      <td>0.205660</td>\n",
       "      <td>0.089292</td>\n",
       "      <td>0.085707</td>\n",
       "      <td>0.999989</td>\n",
       "      <td>1.000000</td>\n",
       "    </tr>\n",
       "  </tbody>\n",
       "</table>\n",
       "</div>"
      ],
      "text/plain": [
       "                  Age      Fare    Family  Age_median  Age_mean  Fare_median  \\\n",
       "Age          1.000000  0.092644 -0.299113    1.000000  1.000000     0.089604   \n",
       "Fare         0.092644  1.000000  0.208268    0.091757  0.088069     1.000000   \n",
       "Family      -0.299113  0.208268  1.000000   -0.242883 -0.244610     0.205710   \n",
       "Age_median   1.000000  0.091757 -0.242883    1.000000  0.999454     0.089149   \n",
       "Age_mean     1.000000  0.088069 -0.244610    0.999454  1.000000     0.085568   \n",
       "Fare_median  0.089604  1.000000  0.205710    0.089149  0.085568     1.000000   \n",
       "Fare_mean    0.089754  1.000000  0.205660    0.089292  0.085707     0.999989   \n",
       "\n",
       "             Fare_mean  \n",
       "Age           0.089754  \n",
       "Fare          1.000000  \n",
       "Family        0.205660  \n",
       "Age_median    0.089292  \n",
       "Age_mean      0.085707  \n",
       "Fare_median   0.999989  \n",
       "Fare_mean     1.000000  "
      ]
     },
     "execution_count": 22,
     "metadata": {},
     "output_type": "execute_result"
    }
   ],
   "source": [
    "#Co-relation\n",
    "\n",
    "X_train.corr()"
   ]
  },
  {
   "cell_type": "code",
   "execution_count": 23,
   "metadata": {},
   "outputs": [
    {
     "data": {
      "text/plain": [
       "<AxesSubplot:>"
      ]
     },
     "execution_count": 23,
     "metadata": {},
     "output_type": "execute_result"
    },
    {
     "data": {
      "image/png": "[encoded data removed]",
      "text/plain": [
       "<Figure size 432x288 with 1 Axes>"
      ]
     },
     "metadata": {
      "needs_background": "light"
     },
     "output_type": "display_data"
    }
   ],
   "source": [
    "X_train[['Age', 'Age_median', 'Age_mean']].boxplot()"
   ]
  },
  {
   "cell_type": "code",
   "execution_count": 24,
   "metadata": {},
   "outputs": [
    {
     "data": {
      "text/plain": [
       "<AxesSubplot:>"
      ]
     },
     "execution_count": 24,
     "metadata": {},
     "output_type": "execute_result"
    },
    {
     "data": {
      "image/png": "[encoded data removed]",
      "text/plain": [
       "<Figure size 432x288 with 1 Axes>"
      ]
     },
     "metadata": {
      "needs_background": "light"
     },
     "output_type": "display_data"
    }
   ],
   "source": [
    "X_train[['Fare', 'Fare_median', 'Fare_mean']].boxplot()"
   ]
  },
  {
   "cell_type": "code",
   "execution_count": 25,
   "metadata": {},
   "outputs": [],
   "source": [
    "#sklearn\n",
    "X_train, X_test, y_train, y_test = train_test_split(X, y, test_size=0.2, random_state=2)\n"
   ]
  },
  {
   "cell_type": "code",
   "execution_count": 26,
   "metadata": {},
   "outputs": [],
   "source": [
    "imputer1 = SimpleImputer(strategy='median')\n",
    "imputer2 = SimpleImputer(strategy='mean')"
   ]
  },
  {
   "cell_type": "code",
   "execution_count": 27,
   "metadata": {},
   "outputs": [],
   "source": [
    "trf = ColumnTransformer([\n",
    "    ('imputer2', imputer2, ['Fare']),\n",
    "    ('imputer1', imputer1, ['Age'])\n",
    "], remainder='passthrough')"
   ]
  },
  {
   "cell_type": "code",
   "execution_count": 28,
   "metadata": {},
   "outputs": [
    {
     "data": {
      "text/plain": [
       "ColumnTransformer(remainder='passthrough',\n",
       "                  transformers=[('imputer2', SimpleImputer(), ['Fare']),\n",
       "                                ('imputer1', SimpleImputer(strategy='median'),\n",
       "                                 ['Age'])])"
      ]
     },
     "execution_count": 28,
     "metadata": {},
     "output_type": "execute_result"
    }
   ],
   "source": [
    "trf.fit(X_train)"
   ]
  },
  {
   "cell_type": "code",
   "execution_count": 29,
   "metadata": {},
   "outputs": [
    {
     "data": {
      "text/plain": [
       "array([28.75])"
      ]
     },
     "execution_count": 29,
     "metadata": {},
     "output_type": "execute_result"
    }
   ],
   "source": [
    "trf.named_transformers_['imputer1'].statistics_"
   ]
  },
  {
   "cell_type": "code",
   "execution_count": 30,
   "metadata": {},
   "outputs": [
    {
     "data": {
      "text/plain": [
       "array([32.61759689])"
      ]
     },
     "execution_count": 30,
     "metadata": {},
     "output_type": "execute_result"
    }
   ],
   "source": [
    "trf.named_transformers_['imputer2'].statistics_"
   ]
  },
  {
   "cell_type": "code",
   "execution_count": 31,
   "metadata": {},
   "outputs": [],
   "source": [
    "X_train = trf.transform(X_train)\n",
    "X_test = trf.transform(X_test)"
   ]
  },
  {
   "cell_type": "code",
   "execution_count": 33,
   "metadata": {},
   "outputs": [
    {
     "data": {
      "text/plain": [
       "(array([[ 27.7208,  40.    ,   0.    ],\n",
       "        [ 16.7   ,   4.    ,   2.    ],\n",
       "        [  9.    ,  47.    ,   0.    ],\n",
       "        ...,\n",
       "        [ 49.5042,  71.    ,   0.    ],\n",
       "        [221.7792,  28.75  ,   0.    ],\n",
       "        [ 25.925 ,  28.75  ,   0.    ]]),\n",
       " array([[ 26.2875    ,  42.        ,   0.        ],\n",
       "        [  8.05      ,  21.        ,   0.        ],\n",
       "        [ 65.        ,  24.        ,   3.        ],\n",
       "        [ 56.4958    ,  28.        ,   0.        ],\n",
       "        [  7.925     ,  17.        ,   6.        ],\n",
       "        [  7.8958    ,  30.        ,   0.        ],\n",
       "        [ 30.        ,  80.        ,   0.        ],\n",
       "        [  7.25      ,  25.        ,   0.        ],\n",
       "        [133.65      ,  50.        ,   2.        ],\n",
       "        [ 26.        ,  25.        ,   1.        ],\n",
       "        [ 26.        ,  35.        ,   0.        ],\n",
       "        [ 90.        ,  35.        ,   1.        ],\n",
       "        [ 16.        ,  55.        ,   0.        ],\n",
       "        [ 56.4958    ,  28.75      ,   0.        ],\n",
       "        [ 56.4958    ,  28.75      ,   0.        ],\n",
       "        [  7.8542    ,  19.        ,   1.        ],\n",
       "        [ 15.2458    ,  28.75      ,   2.        ],\n",
       "        [  0.        ,  49.        ,   0.        ],\n",
       "        [ 32.61759689,  18.        ,   1.        ],\n",
       "        [  7.75      ,  65.        ,   0.        ],\n",
       "        [108.9       ,  18.        ,   1.        ],\n",
       "        [ 22.3583    ,  28.75      ,   2.        ],\n",
       "        [ 18.        ,  16.        ,   2.        ],\n",
       "        [  9.825     ,  21.        ,   1.        ],\n",
       "        [  6.75      ,  19.        ,   0.        ],\n",
       "        [ 11.1333    ,   1.        ,   2.        ],\n",
       "        [ 10.5       ,  50.        ,   0.        ],\n",
       "        [ 53.1       ,  37.        ,   1.        ],\n",
       "        [ 32.61759689,  28.        ,   0.        ],\n",
       "        [ 14.        ,  54.        ,   0.        ],\n",
       "        [  7.925     ,  20.        ,   0.        ],\n",
       "        [  0.        ,  36.        ,   0.        ],\n",
       "        [ 31.275     ,   6.        ,   6.        ],\n",
       "        [ 50.        ,  28.75      ,   0.        ],\n",
       "        [ 31.        ,  40.        ,   0.        ],\n",
       "        [ 16.1       ,  26.        ,   1.        ],\n",
       "        [ 32.61759689,  30.        ,   0.        ],\n",
       "        [ 46.9       ,   1.        ,   7.        ],\n",
       "        [  7.8958    ,  28.75      ,   0.        ],\n",
       "        [ 10.5       ,  35.        ,   0.        ],\n",
       "        [  7.05      ,  38.        ,   0.        ],\n",
       "        [ 16.1       ,  44.        ,   1.        ],\n",
       "        [  7.75      ,  22.        ,   0.        ],\n",
       "        [  6.4958    ,  18.        ,   1.        ],\n",
       "        [  8.4333    ,  21.        ,   0.        ],\n",
       "        [227.525     ,  28.75      ,   0.        ],\n",
       "        [ 77.9583    ,  21.        ,   0.        ],\n",
       "        [  8.6625    ,  28.75      ,   0.        ],\n",
       "        [  7.225     ,  22.        ,   0.        ],\n",
       "        [ 10.5       ,  27.        ,   0.        ],\n",
       "        [  8.05      ,  28.75      ,   0.        ],\n",
       "        [ 26.55      ,  51.        ,   0.        ],\n",
       "        [ 33.        ,  28.        ,   1.        ],\n",
       "        [ 38.5       ,  47.        ,   0.        ],\n",
       "        [ 10.5       ,  32.        ,   0.        ],\n",
       "        [ 52.        ,  48.        ,   1.        ],\n",
       "        [ 24.15      ,  10.        ,   2.        ],\n",
       "        [  8.6625    ,  21.        ,   0.        ],\n",
       "        [  7.0542    ,  51.        ,   0.        ],\n",
       "        [  7.925     ,  32.        ,   0.        ],\n",
       "        [ 13.        ,  42.        ,   0.        ],\n",
       "        [ 26.        ,   2.        ,   2.        ],\n",
       "        [  8.05      ,  35.        ,   0.        ],\n",
       "        [  7.25      ,  28.75      ,   0.        ],\n",
       "        [ 10.4625    ,   2.        ,   1.        ],\n",
       "        [  9.5       ,  33.        ,   0.        ],\n",
       "        [ 25.9292    ,  48.        ,   0.        ],\n",
       "        [ 30.5       ,  55.        ,   0.        ],\n",
       "        [ 39.6875    ,   1.        ,   5.        ],\n",
       "        [  7.0542    ,  17.        ,   1.        ],\n",
       "        [ 15.85      ,  24.        ,   1.        ],\n",
       "        [  7.775     ,  74.        ,   0.        ],\n",
       "        [ 24.15      ,  28.75      ,   1.        ],\n",
       "        [  7.7958    ,  28.        ,   0.        ],\n",
       "        [  7.8542    ,  26.        ,   0.        ],\n",
       "        [ 39.        ,   1.        ,   3.        ],\n",
       "        [  8.05      ,  18.        ,   0.        ],\n",
       "        [ 26.        ,   3.        ,   2.        ],\n",
       "        [ 39.6       ,  48.        ,   1.        ],\n",
       "        [ 56.4958    ,  32.        ,   0.        ],\n",
       "        [ 91.0792    ,  19.        ,   1.        ],\n",
       "        [ 42.4       ,  28.75      ,   0.        ],\n",
       "        [ 10.5       ,  70.        ,   0.        ],\n",
       "        [ 26.        ,  34.        ,   1.        ],\n",
       "        [110.8833    ,  39.        ,   2.        ],\n",
       "        [ 10.5       ,  17.        ,   0.        ],\n",
       "        [  8.6625    ,  38.        ,   0.        ],\n",
       "        [  7.8958    ,  28.75      ,   0.        ],\n",
       "        [ 21.        ,  30.        ,   3.        ],\n",
       "        [ 13.        ,  28.        ,   0.        ],\n",
       "        [  7.725     ,  28.75      ,   0.        ],\n",
       "        [  8.1583    ,  19.        ,   0.        ],\n",
       "        [  7.75      ,  29.        ,   0.        ],\n",
       "        [  7.8958    ,  28.75      ,   0.        ],\n",
       "        [  7.925     ,  44.        ,   0.        ],\n",
       "        [ 41.5792    ,  22.        ,   3.        ],\n",
       "        [ 34.375     ,  21.        ,   4.        ],\n",
       "        [ 19.5       ,  41.        ,   1.        ],\n",
       "        [  7.225     ,  28.75      ,   0.        ],\n",
       "        [ 55.4417    ,  25.        ,   1.        ],\n",
       "        [ 32.61759689,   0.92      ,   3.        ],\n",
       "        [ 26.        ,  44.        ,   1.        ],\n",
       "        [ 26.        ,  19.        ,   0.        ],\n",
       "        [ 56.9292    ,  30.        ,   0.        ],\n",
       "        [  9.5       ,  20.        ,   0.        ],\n",
       "        [ 12.475     ,   5.        ,   0.        ],\n",
       "        [ 39.        ,   4.        ,   3.        ],\n",
       "        [ 16.1       ,  28.75      ,   1.        ],\n",
       "        [  0.        ,  38.        ,   0.        ],\n",
       "        [ 22.525     ,  28.        ,   0.        ],\n",
       "        [ 30.        ,  28.75      ,   0.        ],\n",
       "        [  7.775     ,  29.        ,   0.        ],\n",
       "        [ 89.1042    ,  49.        ,   1.        ],\n",
       "        [ 14.5       ,  19.        ,   0.        ],\n",
       "        [262.375     ,  18.        ,   4.        ],\n",
       "        [ 26.25      ,  31.        ,   2.        ],\n",
       "        [  7.7958    ,  27.        ,   0.        ],\n",
       "        [ 32.61759689,  36.        ,   3.        ],\n",
       "        [ 36.75      ,   8.        ,   2.        ],\n",
       "        [ 21.075     ,   2.        ,   4.        ],\n",
       "        [ 77.9583    ,  63.        ,   1.        ],\n",
       "        [  7.75      ,  31.        ,   0.        ],\n",
       "        [  0.        ,  28.75      ,   0.        ],\n",
       "        [ 13.        ,  25.        ,   0.        ],\n",
       "        [  7.25      ,  20.5       ,   0.        ],\n",
       "        [  7.8958    ,  28.75      ,   0.        ],\n",
       "        [263.        ,  64.        ,   5.        ],\n",
       "        [ 26.        ,  19.        ,   1.        ],\n",
       "        [  7.775     ,  18.        ,   0.        ],\n",
       "        [  0.        ,  28.75      ,   0.        ],\n",
       "        [  7.8958    ,  28.75      ,   0.        ],\n",
       "        [ 18.7875    ,  11.        ,   0.        ],\n",
       "        [ 14.4542    ,  15.        ,   1.        ],\n",
       "        [ 55.        ,  22.        ,   1.        ],\n",
       "        [ 13.        ,  50.        ,   0.        ],\n",
       "        [ 14.4       ,  28.        ,   2.        ],\n",
       "        [ 13.        ,  39.        ,   0.        ],\n",
       "        [  8.05      ,  28.75      ,   0.        ],\n",
       "        [ 32.61759689,  39.        ,   0.        ],\n",
       "        [ 16.1       ,  24.        ,   1.        ],\n",
       "        [ 32.61759689,  23.        ,   0.        ],\n",
       "        [ 57.        ,  17.        ,   1.        ],\n",
       "        [ 26.        ,  44.        ,   1.        ],\n",
       "        [ 13.7917    ,  23.        ,   0.        ],\n",
       "        [ 26.55      ,  28.75      ,   0.        ],\n",
       "        [ 78.2667    ,  52.        ,   1.        ],\n",
       "        [  8.05      ,  24.5       ,   0.        ],\n",
       "        [  8.05      ,  55.5       ,   0.        ],\n",
       "        [  7.7958    ,  18.        ,   0.        ],\n",
       "        [ 13.        ,  18.        ,   2.        ],\n",
       "        [ 83.475     ,  45.        ,   1.        ],\n",
       "        [ 18.        ,  31.        ,   1.        ],\n",
       "        [  8.05      ,  30.5       ,   0.        ],\n",
       "        [  8.4042    ,  42.        ,   1.        ],\n",
       "        [  7.75      ,  28.75      ,   0.        ],\n",
       "        [  7.4958    ,  36.        ,   0.        ],\n",
       "        [ 26.55      ,  34.        ,   0.        ],\n",
       "        [ 78.2667    ,  54.        ,   1.        ],\n",
       "        [  8.0292    ,  15.        ,   0.        ],\n",
       "        [  7.775     ,  25.        ,   1.        ],\n",
       "        [ 32.61759689,  26.        ,   0.        ],\n",
       "        [  8.1125    ,  28.75      ,   0.        ],\n",
       "        [  8.05      ,  19.        ,   0.        ],\n",
       "        [  7.8958    ,  29.        ,   0.        ],\n",
       "        [ 30.        ,  19.        ,   0.        ],\n",
       "        [ 90.        ,  33.        ,   1.        ],\n",
       "        [ 24.15      ,  36.        ,   2.        ],\n",
       "        [  7.775     ,  28.75      ,   0.        ],\n",
       "        [512.3292    ,  35.        ,   0.        ],\n",
       "        [  7.25      ,  22.        ,   0.        ],\n",
       "        [ 16.1       ,  28.75      ,   1.        ],\n",
       "        [  7.4958    ,  18.        ,   0.        ],\n",
       "        [ 26.        ,  28.        ,   1.        ],\n",
       "        [  7.25      ,  22.        ,   0.        ],\n",
       "        [  8.05      ,  24.        ,   0.        ],\n",
       "        [  9.        ,  22.        ,   0.        ],\n",
       "        [ 69.55      ,  28.75      ,  10.        ],\n",
       "        [  7.8958    ,  26.        ,   0.        ],\n",
       "        [ 32.61759689,  29.        ,   2.        ]]))"
      ]
     },
     "execution_count": 33,
     "metadata": {},
     "output_type": "execute_result"
    }
   ],
   "source": [
    "X_train, X_test"
   ]
  },
  {
   "cell_type": "code",
   "execution_count": null,
   "metadata": {},
   "outputs": [],
   "source": []
  }
 ],
 "metadata": {
  "kernelspec": {
   "display_name": "Python 3.8.8 ('base')",
   "language": "python",
   "name": "python3"
  },
  "language_info": {
   "codemirror_mode": {
    "name": "ipython",
    "version": 3
   },
   "file_extension": ".py",
   "mimetype": "text/x-python",
   "name": "python",
   "nbconvert_exporter": "python",
   "pygments_lexer": "ipython3",
   "version": "3.8.8"
  },
  "orig_nbformat": 4,
  "vscode": {
   "interpreter": {
    "hash": "e4cce46d6be9934fbd27f9ca0432556941ea5bdf741d4f4d64c6cd7f8dfa8fba"
   }
  }
 },
 "nbformat": 4,
 "nbformat_minor": 2
}
